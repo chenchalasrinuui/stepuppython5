{
 "cells": [
  {
   "cell_type": "code",
   "execution_count": 32,
   "id": "136af793",
   "metadata": {},
   "outputs": [],
   "source": [
    "class Bus:\n",
    "    fw=2\n",
    "    bw=4\n",
    "    def getTotalWheels(self):\n",
    "        print(self.fw+self.bw)\n",
    "class Car:\n",
    "    fw=2\n",
    "    bw=2\n",
    "    def getTotalWheels():\n",
    "        print(fw+bw)"
   ]
  },
  {
   "cell_type": "code",
   "execution_count": 33,
   "id": "6e1095e7",
   "metadata": {},
   "outputs": [],
   "source": [
    "obj=Bus()"
   ]
  },
  {
   "cell_type": "code",
   "execution_count": 34,
   "id": "9bfdb1f8",
   "metadata": {},
   "outputs": [
    {
     "data": {
      "text/plain": [
       "2"
      ]
     },
     "execution_count": 34,
     "metadata": {},
     "output_type": "execute_result"
    }
   ],
   "source": [
    "obj.fw"
   ]
  },
  {
   "cell_type": "code",
   "execution_count": 35,
   "id": "55e6ec83",
   "metadata": {},
   "outputs": [
    {
     "data": {
      "text/plain": [
       "4"
      ]
     },
     "execution_count": 35,
     "metadata": {},
     "output_type": "execute_result"
    }
   ],
   "source": [
    "obj.bw"
   ]
  },
  {
   "cell_type": "code",
   "execution_count": 36,
   "id": "80561ce1",
   "metadata": {},
   "outputs": [
    {
     "data": {
      "text/plain": [
       "<__main__.Bus at 0x1c5bc3f4df0>"
      ]
     },
     "execution_count": 36,
     "metadata": {},
     "output_type": "execute_result"
    }
   ],
   "source": [
    "obj"
   ]
  },
  {
   "cell_type": "code",
   "execution_count": 37,
   "id": "b3b41d3d",
   "metadata": {},
   "outputs": [
    {
     "data": {
      "text/plain": [
       "<bound method Bus.getTotalWheels of <__main__.Bus object at 0x000001C5BC3F4DF0>>"
      ]
     },
     "execution_count": 37,
     "metadata": {},
     "output_type": "execute_result"
    }
   ],
   "source": [
    "obj.getTotalWheels"
   ]
  },
  {
   "cell_type": "code",
   "execution_count": 38,
   "id": "41fcbeaa",
   "metadata": {},
   "outputs": [
    {
     "name": "stdout",
     "output_type": "stream",
     "text": [
      "6\n"
     ]
    }
   ],
   "source": [
    "obj.getTotalWheels() #obj.getTotalWheels(obj)"
   ]
  },
  {
   "cell_type": "code",
   "execution_count": 46,
   "id": "7ca6a164",
   "metadata": {},
   "outputs": [],
   "source": [
    "class Student:\n",
    "    school='VTS'\n",
    "    def getDetails(self):\n",
    "        print('My name is {}, and rno is {}'.format(self.name,self.rno))"
   ]
  },
  {
   "cell_type": "code",
   "execution_count": 47,
   "id": "96fa2be2",
   "metadata": {},
   "outputs": [
    {
     "data": {
      "text/plain": [
       "'VTS'"
      ]
     },
     "execution_count": 47,
     "metadata": {},
     "output_type": "execute_result"
    }
   ],
   "source": [
    "Student.school"
   ]
  },
  {
   "cell_type": "code",
   "execution_count": 48,
   "id": "1166e831",
   "metadata": {},
   "outputs": [],
   "source": [
    "obj=Student()"
   ]
  },
  {
   "cell_type": "code",
   "execution_count": 49,
   "id": "b0f42f4f",
   "metadata": {},
   "outputs": [
    {
     "data": {
      "text/plain": [
       "'VTS'"
      ]
     },
     "execution_count": 49,
     "metadata": {},
     "output_type": "execute_result"
    }
   ],
   "source": [
    "obj.school"
   ]
  },
  {
   "cell_type": "code",
   "execution_count": null,
   "id": "8853ddf2",
   "metadata": {},
   "outputs": [],
   "source": []
  }
 ],
 "metadata": {
  "kernelspec": {
   "display_name": "Python 3 (ipykernel)",
   "language": "python",
   "name": "python3"
  },
  "language_info": {
   "codemirror_mode": {
    "name": "ipython",
    "version": 3
   },
   "file_extension": ".py",
   "mimetype": "text/x-python",
   "name": "python",
   "nbconvert_exporter": "python",
   "pygments_lexer": "ipython3",
   "version": "3.10.1"
  }
 },
 "nbformat": 4,
 "nbformat_minor": 5
}
