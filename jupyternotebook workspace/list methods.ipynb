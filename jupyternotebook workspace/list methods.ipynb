{
 "cells": [
  {
   "cell_type": "code",
   "execution_count": 5,
   "id": "d1fd8efa",
   "metadata": {},
   "outputs": [],
   "source": [
    "players=['Sachin','Dhoni','Kholi']#players=list()"
   ]
  },
  {
   "cell_type": "code",
   "execution_count": 7,
   "id": "0e0c8b7f",
   "metadata": {},
   "outputs": [
    {
     "name": "stdout",
     "output_type": "stream",
     "text": [
      "<class 'list'>\n"
     ]
    }
   ],
   "source": [
    "print(type(players))"
   ]
  },
  {
   "cell_type": "code",
   "execution_count": 8,
   "id": "c54a1b8b",
   "metadata": {},
   "outputs": [
    {
     "data": {
      "text/plain": [
       "['__add__',\n",
       " '__class__',\n",
       " '__class_getitem__',\n",
       " '__contains__',\n",
       " '__delattr__',\n",
       " '__delitem__',\n",
       " '__dir__',\n",
       " '__doc__',\n",
       " '__eq__',\n",
       " '__format__',\n",
       " '__ge__',\n",
       " '__getattribute__',\n",
       " '__getitem__',\n",
       " '__gt__',\n",
       " '__hash__',\n",
       " '__iadd__',\n",
       " '__imul__',\n",
       " '__init__',\n",
       " '__init_subclass__',\n",
       " '__iter__',\n",
       " '__le__',\n",
       " '__len__',\n",
       " '__lt__',\n",
       " '__mul__',\n",
       " '__ne__',\n",
       " '__new__',\n",
       " '__reduce__',\n",
       " '__reduce_ex__',\n",
       " '__repr__',\n",
       " '__reversed__',\n",
       " '__rmul__',\n",
       " '__setattr__',\n",
       " '__setitem__',\n",
       " '__sizeof__',\n",
       " '__str__',\n",
       " '__subclasshook__',\n",
       " 'append',\n",
       " 'clear',\n",
       " 'copy',\n",
       " 'count',\n",
       " 'extend',\n",
       " 'index',\n",
       " 'insert',\n",
       " 'pop',\n",
       " 'remove',\n",
       " 'reverse',\n",
       " 'sort']"
      ]
     },
     "execution_count": 8,
     "metadata": {},
     "output_type": "execute_result"
    }
   ],
   "source": [
    "dir(players)"
   ]
  },
  {
   "cell_type": "code",
   "execution_count": 9,
   "id": "1dc505ef",
   "metadata": {},
   "outputs": [
    {
     "data": {
      "text/plain": [
       "['Sachin', 'Dhoni', 'Kholi']"
      ]
     },
     "execution_count": 9,
     "metadata": {},
     "output_type": "execute_result"
    }
   ],
   "source": [
    "players"
   ]
  },
  {
   "cell_type": "code",
   "execution_count": 14,
   "id": "1dcbc7fd",
   "metadata": {},
   "outputs": [
    {
     "data": {
      "text/plain": [
       "'Kholi'"
      ]
     },
     "execution_count": 14,
     "metadata": {},
     "output_type": "execute_result"
    }
   ],
   "source": [
    "players[2] # index"
   ]
  },
  {
   "cell_type": "code",
   "execution_count": 19,
   "id": "6512d0cc",
   "metadata": {},
   "outputs": [
    {
     "data": {
      "text/plain": [
       "['Sachin', 'Dhoni']"
      ]
     },
     "execution_count": 19,
     "metadata": {},
     "output_type": "execute_result"
    }
   ],
   "source": [
    "players[0:2]"
   ]
  },
  {
   "cell_type": "code",
   "execution_count": 20,
   "id": "6aca80bf",
   "metadata": {},
   "outputs": [
    {
     "data": {
      "text/plain": [
       "['Sachin', 'Dhoni', 'Kholi']"
      ]
     },
     "execution_count": 20,
     "metadata": {},
     "output_type": "execute_result"
    }
   ],
   "source": [
    "players[0:]"
   ]
  },
  {
   "cell_type": "code",
   "execution_count": 21,
   "id": "46fd6f7c",
   "metadata": {},
   "outputs": [
    {
     "data": {
      "text/plain": [
       "['Sachin', 'Dhoni']"
      ]
     },
     "execution_count": 21,
     "metadata": {},
     "output_type": "execute_result"
    }
   ],
   "source": [
    "players[:2]"
   ]
  },
  {
   "cell_type": "code",
   "execution_count": 22,
   "id": "af68fd86",
   "metadata": {},
   "outputs": [
    {
     "data": {
      "text/plain": [
       "['Sachin', 'Dhoni', 'Kholi']"
      ]
     },
     "execution_count": 22,
     "metadata": {},
     "output_type": "execute_result"
    }
   ],
   "source": [
    "players[:]"
   ]
  },
  {
   "cell_type": "code",
   "execution_count": 23,
   "id": "1971895a",
   "metadata": {},
   "outputs": [
    {
     "data": {
      "text/plain": [
       "['Sachin', 'Dhoni']"
      ]
     },
     "execution_count": 23,
     "metadata": {},
     "output_type": "execute_result"
    }
   ],
   "source": [
    "players[0:2:1]"
   ]
  },
  {
   "cell_type": "code",
   "execution_count": 24,
   "id": "58517555",
   "metadata": {},
   "outputs": [
    {
     "data": {
      "text/plain": [
       "['Sachin']"
      ]
     },
     "execution_count": 24,
     "metadata": {},
     "output_type": "execute_result"
    }
   ],
   "source": [
    "players[0:2:2]"
   ]
  },
  {
   "cell_type": "code",
   "execution_count": 25,
   "id": "0952ff90",
   "metadata": {},
   "outputs": [
    {
     "name": "stdout",
     "output_type": "stream",
     "text": [
      "Sachin\n",
      "Dhoni\n",
      "Kholi\n"
     ]
    }
   ],
   "source": [
    "for val in players:\n",
    "    print(val)"
   ]
  },
  {
   "cell_type": "code",
   "execution_count": 28,
   "id": "1b77d897",
   "metadata": {},
   "outputs": [],
   "source": [
    "players.append('uv')"
   ]
  },
  {
   "cell_type": "code",
   "execution_count": 29,
   "id": "96d6b31c",
   "metadata": {},
   "outputs": [
    {
     "data": {
      "text/plain": [
       "['Sachin', 'Dhoni', 'Kholi', 'uv']"
      ]
     },
     "execution_count": 29,
     "metadata": {},
     "output_type": "execute_result"
    }
   ],
   "source": [
    "players"
   ]
  },
  {
   "cell_type": "code",
   "execution_count": 38,
   "id": "c9dd96de",
   "metadata": {},
   "outputs": [],
   "source": [
    "playersList=['sachin','dhoni','dravid','Sourav','gil']\n",
    "output=[]\n",
    "for val in playersList:\n",
    "    if val.lower().startswith('s'):\n",
    "        output.append(val)"
   ]
  },
  {
   "cell_type": "code",
   "execution_count": 39,
   "id": "82490b40",
   "metadata": {},
   "outputs": [
    {
     "data": {
      "text/plain": [
       "['sachin', 'Sourav']"
      ]
     },
     "execution_count": 39,
     "metadata": {},
     "output_type": "execute_result"
    }
   ],
   "source": [
    "output"
   ]
  },
  {
   "cell_type": "code",
   "execution_count": 40,
   "id": "e27c9eb6",
   "metadata": {},
   "outputs": [
    {
     "data": {
      "text/plain": [
       "['Sachin', 'Dhoni', 'Kholi', 'uv']"
      ]
     },
     "execution_count": 40,
     "metadata": {},
     "output_type": "execute_result"
    }
   ],
   "source": [
    "players"
   ]
  },
  {
   "cell_type": "code",
   "execution_count": 46,
   "id": "c865cc82",
   "metadata": {},
   "outputs": [
    {
     "data": {
      "text/plain": [
       "1"
      ]
     },
     "execution_count": 46,
     "metadata": {},
     "output_type": "execute_result"
    }
   ],
   "source": [
    "players.index('Dhoni')"
   ]
  },
  {
   "cell_type": "code",
   "execution_count": 48,
   "id": "701c536c",
   "metadata": {},
   "outputs": [
    {
     "data": {
      "text/plain": [
       "0"
      ]
     },
     "execution_count": 48,
     "metadata": {},
     "output_type": "execute_result"
    }
   ],
   "source": [
    "players.count('D')"
   ]
  },
  {
   "cell_type": "code",
   "execution_count": 49,
   "id": "c8bb4829",
   "metadata": {},
   "outputs": [],
   "source": [
    "nos=[10,20,2,20,30,10,5,2]"
   ]
  },
  {
   "cell_type": "code",
   "execution_count": 50,
   "id": "ec76ce82",
   "metadata": {},
   "outputs": [],
   "source": [
    "myoutput=[]"
   ]
  },
  {
   "cell_type": "code",
   "execution_count": 51,
   "id": "ab7d13e2",
   "metadata": {},
   "outputs": [],
   "source": [
    "for val in nos:\n",
    "    if myoutput.count(val)==0:\n",
    "        myoutput.append(val)"
   ]
  },
  {
   "cell_type": "code",
   "execution_count": 52,
   "id": "ab61f79c",
   "metadata": {},
   "outputs": [
    {
     "data": {
      "text/plain": [
       "[10, 20, 2, 30, 5]"
      ]
     },
     "execution_count": 52,
     "metadata": {},
     "output_type": "execute_result"
    }
   ],
   "source": [
    "myoutput"
   ]
  },
  {
   "cell_type": "code",
   "execution_count": 54,
   "id": "8aaa4fa6",
   "metadata": {},
   "outputs": [
    {
     "data": {
      "text/plain": [
       "['Sachin', 'Dhoni', 'Kholi', 'uv']"
      ]
     },
     "execution_count": 54,
     "metadata": {},
     "output_type": "execute_result"
    }
   ],
   "source": [
    "players"
   ]
  },
  {
   "cell_type": "code",
   "execution_count": 55,
   "id": "e501cacb",
   "metadata": {},
   "outputs": [
    {
     "data": {
      "text/plain": [
       "['Sachin', 'Dhoni', 'Kholi', 'uv']"
      ]
     },
     "execution_count": 55,
     "metadata": {},
     "output_type": "execute_result"
    }
   ],
   "source": [
    "players.copy()"
   ]
  },
  {
   "cell_type": "code",
   "execution_count": 56,
   "id": "fcc47872",
   "metadata": {},
   "outputs": [
    {
     "data": {
      "text/plain": [
       "['Sachin', 'Dhoni', 'Kholi', 'uv']"
      ]
     },
     "execution_count": 56,
     "metadata": {},
     "output_type": "execute_result"
    }
   ],
   "source": [
    "players"
   ]
  },
  {
   "cell_type": "code",
   "execution_count": 57,
   "id": "afd58a44",
   "metadata": {},
   "outputs": [],
   "source": [
    "players.clear()"
   ]
  },
  {
   "cell_type": "code",
   "execution_count": 58,
   "id": "8c8b52f5",
   "metadata": {},
   "outputs": [
    {
     "data": {
      "text/plain": [
       "[]"
      ]
     },
     "execution_count": 58,
     "metadata": {},
     "output_type": "execute_result"
    }
   ],
   "source": [
    "players"
   ]
  },
  {
   "cell_type": "code",
   "execution_count": 59,
   "id": "c8214135",
   "metadata": {},
   "outputs": [],
   "source": [
    "students=[]"
   ]
  },
  {
   "cell_type": "code",
   "execution_count": 60,
   "id": "6a8192cd",
   "metadata": {},
   "outputs": [],
   "source": [
    "students.append('s1')"
   ]
  },
  {
   "cell_type": "code",
   "execution_count": 61,
   "id": "a53f0247",
   "metadata": {},
   "outputs": [
    {
     "data": {
      "text/plain": [
       "['s1']"
      ]
     },
     "execution_count": 61,
     "metadata": {},
     "output_type": "execute_result"
    }
   ],
   "source": [
    "students"
   ]
  },
  {
   "cell_type": "code",
   "execution_count": 64,
   "id": "f40382bb",
   "metadata": {},
   "outputs": [],
   "source": [
    "students.extend('s2')"
   ]
  },
  {
   "cell_type": "code",
   "execution_count": 65,
   "id": "0d7272b5",
   "metadata": {},
   "outputs": [
    {
     "data": {
      "text/plain": [
       "['s1', 's', '2']"
      ]
     },
     "execution_count": 65,
     "metadata": {},
     "output_type": "execute_result"
    }
   ],
   "source": [
    "students"
   ]
  },
  {
   "cell_type": "code",
   "execution_count": 66,
   "id": "e820161b",
   "metadata": {},
   "outputs": [],
   "source": [
    "students.extend('sachin')"
   ]
  },
  {
   "cell_type": "code",
   "execution_count": 68,
   "id": "b4009112",
   "metadata": {},
   "outputs": [
    {
     "data": {
      "text/plain": [
       "['s1', 's', '2', 's', 'a', 'c', 'h', 'i', 'n']"
      ]
     },
     "execution_count": 68,
     "metadata": {},
     "output_type": "execute_result"
    }
   ],
   "source": [
    "students"
   ]
  },
  {
   "cell_type": "code",
   "execution_count": 70,
   "id": "2a50ecf1",
   "metadata": {},
   "outputs": [
    {
     "ename": "AttributeError",
     "evalue": "'list' object has no attribute 'delete'",
     "output_type": "error",
     "traceback": [
      "\u001b[1;31m---------------------------------------------------------------------------\u001b[0m",
      "\u001b[1;31mAttributeError\u001b[0m                            Traceback (most recent call last)",
      "\u001b[1;32m~\\AppData\\Local\\Temp/ipykernel_7308/4151792124.py\u001b[0m in \u001b[0;36m<module>\u001b[1;34m\u001b[0m\n\u001b[1;32m----> 1\u001b[1;33m \u001b[0mstudents\u001b[0m\u001b[1;33m.\u001b[0m\u001b[0mdelete\u001b[0m\u001b[1;33m(\u001b[0m\u001b[1;33m)\u001b[0m\u001b[1;33m\u001b[0m\u001b[1;33m\u001b[0m\u001b[0m\n\u001b[0m",
      "\u001b[1;31mAttributeError\u001b[0m: 'list' object has no attribute 'delete'"
     ]
    }
   ],
   "source": [
    "students.delete()"
   ]
  },
  {
   "cell_type": "code",
   "execution_count": 71,
   "id": "42216f1a",
   "metadata": {},
   "outputs": [
    {
     "data": {
      "text/plain": [
       "['s1', 's', '2', 's', 'a', 'c', 'h', 'i', 'n']"
      ]
     },
     "execution_count": 71,
     "metadata": {},
     "output_type": "execute_result"
    }
   ],
   "source": [
    "students"
   ]
  },
  {
   "cell_type": "code",
   "execution_count": 73,
   "id": "06400e77",
   "metadata": {},
   "outputs": [],
   "source": [
    "students.insert(1,'s2')"
   ]
  },
  {
   "cell_type": "code",
   "execution_count": 74,
   "id": "f7ceb314",
   "metadata": {},
   "outputs": [
    {
     "data": {
      "text/plain": [
       "['s1', 's2', 's', '2', 's', 'a', 'c', 'h', 'i', 'n']"
      ]
     },
     "execution_count": 74,
     "metadata": {},
     "output_type": "execute_result"
    }
   ],
   "source": [
    "students"
   ]
  },
  {
   "cell_type": "code",
   "execution_count": 76,
   "id": "83364518",
   "metadata": {},
   "outputs": [
    {
     "data": {
      "text/plain": [
       "'n'"
      ]
     },
     "execution_count": 76,
     "metadata": {},
     "output_type": "execute_result"
    }
   ],
   "source": [
    "students.pop()"
   ]
  },
  {
   "cell_type": "code",
   "execution_count": 77,
   "id": "f7a6870c",
   "metadata": {},
   "outputs": [
    {
     "data": {
      "text/plain": [
       "['s1', 's2', 's', '2', 's', 'a', 'c', 'h', 'i']"
      ]
     },
     "execution_count": 77,
     "metadata": {},
     "output_type": "execute_result"
    }
   ],
   "source": [
    "students"
   ]
  },
  {
   "cell_type": "code",
   "execution_count": 78,
   "id": "52d697f9",
   "metadata": {},
   "outputs": [
    {
     "data": {
      "text/plain": [
       "'s2'"
      ]
     },
     "execution_count": 78,
     "metadata": {},
     "output_type": "execute_result"
    }
   ],
   "source": [
    "students.pop(1)"
   ]
  },
  {
   "cell_type": "code",
   "execution_count": 80,
   "id": "e225a808",
   "metadata": {},
   "outputs": [
    {
     "data": {
      "text/plain": [
       "['s1', 's', '2', 's', 'a', 'c', 'h', 'i']"
      ]
     },
     "execution_count": 80,
     "metadata": {},
     "output_type": "execute_result"
    }
   ],
   "source": [
    "students"
   ]
  },
  {
   "cell_type": "code",
   "execution_count": 81,
   "id": "8f54cb38",
   "metadata": {},
   "outputs": [],
   "source": [
    "students.reverse()"
   ]
  },
  {
   "cell_type": "code",
   "execution_count": 82,
   "id": "49d9063c",
   "metadata": {},
   "outputs": [
    {
     "data": {
      "text/plain": [
       "['i', 'h', 'c', 'a', 's', '2', 's', 's1']"
      ]
     },
     "execution_count": 82,
     "metadata": {},
     "output_type": "execute_result"
    }
   ],
   "source": [
    "students"
   ]
  },
  {
   "cell_type": "code",
   "execution_count": 83,
   "id": "57ae068f",
   "metadata": {},
   "outputs": [],
   "source": [
    "students.remove('a')"
   ]
  },
  {
   "cell_type": "code",
   "execution_count": 84,
   "id": "4b931497",
   "metadata": {},
   "outputs": [
    {
     "data": {
      "text/plain": [
       "['i', 'h', 'c', 's', '2', 's', 's1']"
      ]
     },
     "execution_count": 84,
     "metadata": {},
     "output_type": "execute_result"
    }
   ],
   "source": [
    "students"
   ]
  },
  {
   "cell_type": "code",
   "execution_count": 85,
   "id": "7332033e",
   "metadata": {},
   "outputs": [],
   "source": [
    "students.sort()"
   ]
  },
  {
   "cell_type": "code",
   "execution_count": 86,
   "id": "2cab6507",
   "metadata": {},
   "outputs": [
    {
     "data": {
      "text/plain": [
       "['2', 'c', 'h', 'i', 's', 's', 's1']"
      ]
     },
     "execution_count": 86,
     "metadata": {},
     "output_type": "execute_result"
    }
   ],
   "source": [
    "students"
   ]
  },
  {
   "cell_type": "code",
   "execution_count": null,
   "id": "049781f9",
   "metadata": {},
   "outputs": [],
   "source": []
  }
 ],
 "metadata": {
  "kernelspec": {
   "display_name": "Python 3 (ipykernel)",
   "language": "python",
   "name": "python3"
  },
  "language_info": {
   "codemirror_mode": {
    "name": "ipython",
    "version": 3
   },
   "file_extension": ".py",
   "mimetype": "text/x-python",
   "name": "python",
   "nbconvert_exporter": "python",
   "pygments_lexer": "ipython3",
   "version": "3.10.1"
  }
 },
 "nbformat": 4,
 "nbformat_minor": 5
}
