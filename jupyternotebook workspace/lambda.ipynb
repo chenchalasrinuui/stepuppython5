{
 "cells": [
  {
   "cell_type": "code",
   "execution_count": 1,
   "id": "3ecdfe75",
   "metadata": {},
   "outputs": [],
   "source": [
    "def f1():\n",
    "    print('f1 called')\n",
    "    print('1k lines')"
   ]
  },
  {
   "cell_type": "code",
   "execution_count": 2,
   "id": "afa309bb",
   "metadata": {},
   "outputs": [
    {
     "name": "stdout",
     "output_type": "stream",
     "text": [
      "f1 called\n"
     ]
    }
   ],
   "source": [
    "f1()"
   ]
  },
  {
   "cell_type": "code",
   "execution_count": 6,
   "id": "a9fa850c",
   "metadata": {},
   "outputs": [],
   "source": [
    "def f2(x):\n",
    "    x()"
   ]
  },
  {
   "cell_type": "code",
   "execution_count": 13,
   "id": "b5fdd3a5",
   "metadata": {},
   "outputs": [
    {
     "name": "stdout",
     "output_type": "stream",
     "text": [
      "f1 called\n"
     ]
    }
   ],
   "source": [
    "f2(f1)"
   ]
  },
  {
   "cell_type": "code",
   "execution_count": 14,
   "id": "5d5fbf1d",
   "metadata": {},
   "outputs": [
    {
     "data": {
      "text/plain": [
       "<function __main__.<lambda>()>"
      ]
     },
     "execution_count": 14,
     "metadata": {},
     "output_type": "execute_result"
    }
   ],
   "source": [
    "lambda :print('fn called')"
   ]
  },
  {
   "cell_type": "code",
   "execution_count": 15,
   "id": "1f5317ab",
   "metadata": {},
   "outputs": [
    {
     "data": {
      "text/plain": [
       "<function __main__.f1()>"
      ]
     },
     "execution_count": 15,
     "metadata": {},
     "output_type": "execute_result"
    }
   ],
   "source": [
    "f1"
   ]
  },
  {
   "cell_type": "code",
   "execution_count": 21,
   "id": "07543b59",
   "metadata": {},
   "outputs": [
    {
     "data": {
      "text/plain": [
       "<function __main__.<lambda>()>"
      ]
     },
     "execution_count": 21,
     "metadata": {},
     "output_type": "execute_result"
    }
   ],
   "source": [
    "lambda:print('f1 called')"
   ]
  },
  {
   "cell_type": "code",
   "execution_count": 22,
   "id": "6e8912c3",
   "metadata": {},
   "outputs": [
    {
     "name": "stdout",
     "output_type": "stream",
     "text": [
      "lambda fn called\n"
     ]
    }
   ],
   "source": [
    "f2(lambda:print('lambda fn called'))"
   ]
  },
  {
   "cell_type": "code",
   "execution_count": 23,
   "id": "402d1b19",
   "metadata": {},
   "outputs": [],
   "source": [
    "def f3(x):\n",
    "    x(10,20)"
   ]
  },
  {
   "cell_type": "code",
   "execution_count": 25,
   "id": "1e31f074",
   "metadata": {},
   "outputs": [
    {
     "name": "stdout",
     "output_type": "stream",
     "text": [
      "30\n"
     ]
    }
   ],
   "source": [
    "def f4(a,b):\n",
    "    print(a+b)\n",
    "\n",
    "f3(f4)"
   ]
  },
  {
   "cell_type": "code",
   "execution_count": 28,
   "id": "4e3c64a1",
   "metadata": {},
   "outputs": [
    {
     "name": "stdout",
     "output_type": "stream",
     "text": [
      "30\n"
     ]
    }
   ],
   "source": [
    "f3(lambda a,b:print(a+b))"
   ]
  },
  {
   "cell_type": "code",
   "execution_count": 42,
   "id": "11cf8bec",
   "metadata": {},
   "outputs": [],
   "source": [
    "def f5():\n",
    "    n1=10\n",
    "    n2=20\n",
    "    return n1,n2"
   ]
  },
  {
   "cell_type": "code",
   "execution_count": 43,
   "id": "9f8a92ee",
   "metadata": {},
   "outputs": [
    {
     "name": "stdout",
     "output_type": "stream",
     "text": [
      "i value is (10, 20)\n"
     ]
    }
   ],
   "source": [
    "i=f5()\n",
    "print('i value is {}'.format(i))"
   ]
  },
  {
   "cell_type": "code",
   "execution_count": null,
   "id": "b66d6d21",
   "metadata": {},
   "outputs": [],
   "source": []
  }
 ],
 "metadata": {
  "kernelspec": {
   "display_name": "Python 3 (ipykernel)",
   "language": "python",
   "name": "python3"
  },
  "language_info": {
   "codemirror_mode": {
    "name": "ipython",
    "version": 3
   },
   "file_extension": ".py",
   "mimetype": "text/x-python",
   "name": "python",
   "nbconvert_exporter": "python",
   "pygments_lexer": "ipython3",
   "version": "3.10.1"
  }
 },
 "nbformat": 4,
 "nbformat_min