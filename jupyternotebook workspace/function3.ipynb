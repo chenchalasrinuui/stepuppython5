{
 "cells": [
  {
   "cell_type": "markdown",
   "id": "781f4640",
   "metadata": {},
   "source": [
    "# Functions with Retrun type"
   ]
  },
  {
   "cell_type": "code",
   "execution_count": 1,
   "id": "3be110c6",
   "metadata": {},
   "outputs": [],
   "source": [
    "def f1():\n",
    "    print('1k lines of code')\n",
    "    print(10)"
   ]
  },
  {
   "cell_type": "code",
   "execution_count": 2,
   "id": "cee28cf5",
   "metadata": {},
   "outputs": [
    {
     "name": "stdout",
     "output_type": "stream",
     "text": [
      "1k lines of code\n",
      "10\n"
     ]
    }
   ],
   "source": [
    "f1()"
   ]
  },
  {
   "cell_type": "code",
   "execution_count": 3,
   "id": "c7646cb6",
   "metadata": {},
   "outputs": [
    {
     "name": "stdout",
     "output_type": "stream",
     "text": [
      "1k lines of code\n",
      "10\n"
     ]
    }
   ],
   "source": [
    "f1()"
   ]
  },
  {
   "cell_type": "code",
   "execution_count": 4,
   "id": "185aa511",
   "metadata": {},
   "outputs": [],
   "source": [
    "def f2():\n",
    "    print('1k lines of code')\n",
    "    return 10"
   ]
  },
  {
   "cell_type": "code",
   "execution_count": 5,
   "id": "354f49c1",
   "metadata": {},
   "outputs": [
    {
     "name": "stdout",
     "output_type": "stream",
     "text": [
      "1k lines of code\n"
     ]
    }
   ],
   "source": [
    "result=f2()"
   ]
  },
  {
   "cell_type": "code",
   "execution_count": 6,
   "id": "73af9604",
   "metadata": {},
   "outputs": [
    {
     "data": {
      "text/plain": [
       "10"
      ]
     },
     "execution_count": 6,
     "metadata": {},
     "output_type": "execute_result"
    }
   ],
   "source": [
    "result"
   ]
  },
  {
   "cell_type": "code",
   "execution_count": 7,
   "id": "15d7e338",
   "metadata": {},
   "outputs": [
    {
     "data": {
      "text/plain": [
       "10"
      ]
     },
     "execution_count": 7,
     "metadata": {},
     "output_type": "execute_result"
    }
   ],
   "source": [
    "result"
   ]
  },
  {
   "cell_type": "code",
   "execution_count": 12,
   "id": "f2452dbb",
   "metadata": {},
   "outputs": [],
   "source": [
    "def f3():\n",
    "    print('f3 called')\n",
    "    return 10"
   ]
  },
  {
   "cell_type": "code",
   "execution_count": 13,
   "id": "caa19384",
   "metadata": {},
   "outputs": [
    {
     "name": "stdout",
     "output_type": "stream",
     "text": [
      "f3 called\n"
     ]
    }
   ],
   "source": [
    "a=f3()"
   ]
  },
  {
   "cell_type": "code",
   "execution_count": 14,
   "id": "05425277",
   "metadata": {},
   "outputs": [
    {
     "data": {
      "text/plain": [
       "10"
      ]
     },
     "execution_count": 14,
     "metadata": {},
     "output_type": "execute_result"
    }
   ],
   "source": [
    "a"
   ]
  },
  {
   "cell_type": "code",
   "execution_count": 15,
   "id": "9c673d81",
   "metadata": {},
   "outputs": [],
   "source": [
    "def f4():\n",
    "    n1=10\n",
    "    n2=20\n",
    "    return n1"
   ]
  },
  {
   "cell_type": "code",
   "execution_count": 17,
   "id": "fe3091ad",
   "metadata": {},
   "outputs": [],
   "source": [
    "x=f4()"
   ]
  },
  {
   "cell_type": "code",
   "execution_count": 18,
   "id": "cbeb8e1b",
   "metadata": {},
   "outputs": [
    {
     "data": {
      "text/plain": [
       "10"
      ]
     },
     "execution_count": 18,
     "metadata": {},
     "output_type": "execute_result"
    }
   ],
   "source": [
    "x"
   ]
  },
  {
   "cell_type": "code",
   "execution_count": 19,
   "id": "d189bc50",
   "metadata": {},
   "outputs": [],
   "source": [
    "def f5():\n",
    "    n1=10\n",
    "    n2=20\n",
    "    return n1,n2"
   ]
  },
  {
   "cell_type": "code",
   "execution_count": 21,
   "id": "c8e1c61f",
   "metadata": {},
   "outputs": [],
   "source": [
    "y=f5()"
   ]
  },
  {
   "cell_type": "code",
   "execution_count": 22,
   "id": "6665a679",
   "metadata": {},
   "outputs": [
    {
     "data": {
      "text/plain": [
       "(10, 20)"
      ]
     },
     "execution_count": 22,
     "metadata": {},
     "output_type": "execute_result"
    }
   ],
   "source": [
    "y"
   ]
  },
  {
   "cell_type": "code",
   "execution_count": 23,
   "id": "139c969c",
   "metadata": {},
   "outputs": [
    {
     "data": {
      "text/plain": [
       "10"
      ]
     },
     "execution_count": 23,
     "metadata": {},
     "output_type": "execute_result"
    }
   ],
   "source": [
    "y[0]"
   ]
  },
  {
   "cell_type": "code",
   "execution_count": 24,
   "id": "862b4f44",
   "metadata": {},
   "outputs": [
    {
     "data": {
      "text/plain": [
       "20"
      ]
     },
     "execution_count": 24,
     "metadata": {},
     "output_type": "execute_result"
    }
   ],
   "source": [
    "y[1]"
   ]
  },
  {
   "cell_type": "code",
   "execution_count": 28,
   "id": "fc923699",
   "metadata": {},
   "outputs": [],
   "source": [
    "def f6():\n",
    "    pass"
   ]
  },
  {
   "cell_type": "code",
   "execution_count": null,
   "id": "bad9d8cc",
   "metadata": {},
   "outputs": [],
   "source": []
  }
 ],
 "metadata": {
  "kernelspec": {
   "display_name": "Python 3 (ipykernel)",
   "language": "python",
   "name": "python3"
  },
  "language_info": {
   "codemirror_mode": {
    "name": "ipython",
    "version": 3
   },
   "file_extension": ".py",
   "mimetype": "text/x-python",
   "name": "python",
   "nbconvert_exporter": "python",
   "pygments_lexer": "ipython3",
   "version": "3.10.1"
  }
 },
 "nbformat": 4,
 "nbformat_minor": 5
}
