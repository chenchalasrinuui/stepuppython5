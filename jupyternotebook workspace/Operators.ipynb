{
 "cells": [
  {
   "cell_type": "code",
   "execution_count": 1,
   "id": "df337f22",
   "metadata": {},
   "outputs": [
    {
     "data": {
      "text/plain": [
       "30"
      ]
     },
     "execution_count": 1,
     "metadata": {},
     "output_type": "execute_result"
    }
   ],
   "source": [
    "a=10\n",
    "b=20\n",
    "\n",
    "a+b\n",
    "# + is an operator\n",
    "# a,b operands"
   ]
  },
  {
   "cell_type": "markdown",
   "id": "116f00d1",
   "metadata": {},
   "source": [
    "# Arithmetic Operators"
   ]
  },
  {
   "cell_type": "code",
   "execution_count": 2,
   "id": "2c077348",
   "metadata": {},
   "outputs": [
    {
     "data": {
      "text/plain": [
       "30"
      ]
     },
     "execution_count": 2,
     "metadata": {},
     "output_type": "execute_result"
    }
   ],
   "source": [
    "a+b"
   ]
  },
  {
   "cell_type": "code",
   "execution_count": 3,
   "id": "ac603645",
   "metadata": {},
   "outputs": [
    {
     "data": {
      "text/plain": [
       "-10"
      ]
     },
     "execution_count": 3,
     "metadata": {},
     "output_type": "execute_result"
    }
   ],
   "source": [
    "a-b"
   ]
  },
  {
   "cell_type": "code",
   "execution_count": 4,
   "id": "3781d7e3",
   "metadata": {},
   "outputs": [
    {
     "data": {
      "text/plain": [
       "200"
      ]
     },
     "execution_count": 4,
     "metadata": {},
     "output_type": "execute_result"
    }
   ],
   "source": [
    "a*b"
   ]
  },
  {
   "cell_type": "code",
   "execution_count": 5,
   "id": "3760fda6",
   "metadata": {},
   "outputs": [
    {
     "data": {
      "text/plain": [
       "0.5"
      ]
     },
     "execution_count": 5,
     "metadata": {},
     "output_type": "execute_result"
    }
   ],
   "source": [
    "a/b #float divition"
   ]
  },
  {
   "cell_type": "code",
   "execution_count": 6,
   "id": "350b23cf",
   "metadata": {},
   "outputs": [
    {
     "data": {
      "text/plain": [
       "10"
      ]
     },
     "execution_count": 6,
     "metadata": {},
     "output_type": "execute_result"
    }
   ],
   "source": [
    "a%b "
   ]
  },
  {
   "cell_type": "code",
   "execution_count": 7,
   "id": "0e301371",
   "metadata": {},
   "outputs": [
    {
     "data": {
      "text/plain": [
       "100000000000000000000"
      ]
     },
     "execution_count": 7,
     "metadata": {},
     "output_type": "execute_result"
    }
   ],
   "source": [
    "a**b"
   ]
  },
  {
   "cell_type": "code",
   "execution_count": 8,
   "id": "3f1be7bb",
   "metadata": {},
   "outputs": [
    {
     "data": {
      "text/plain": [
       "0"
      ]
     },
     "execution_count": 8,
     "metadata": {},
     "output_type": "execute_result"
    }
   ],
   "source": [
    "a//b #floor division"
   ]
  },
  {
   "cell_type": "code",
   "execution_count": 10,
   "id": "0d13bfec",
   "metadata": {},
   "outputs": [
    {
     "data": {
      "text/plain": [
       "100000000000000000000"
      ]
     },
     "execution_count": 10,
     "metadata": {},
     "output_type": "execute_result"
    }
   ],
   "source": [
    "x=10\n",
    "y=20\n",
    "x**y"
   ]
  },
  {
   "cell_type": "code",
   "execution_count": 12,
   "id": "e7308e0f",
   "metadata": {},
   "outputs": [],
   "source": [
    "i=3\n",
    "j=2\n",
    "\n"
   ]
  },
  {
   "cell_type": "code",
   "execution_count": 13,
   "id": "619fc3ff",
   "metadata": {},
   "outputs": [
    {
     "data": {
      "text/plain": [
       "1.5"
      ]
     },
     "execution_count": 13,
     "metadata": {},
     "output_type": "execute_result"
    }
   ],
   "source": [
    "i/j"
   ]
  },
  {
   "cell_type": "code",
   "execution_count": 14,
   "id": "30c3c282",
   "metadata": {},
   "outputs": [
    {
     "data": {
      "text/plain": [
       "1"
      ]
     },
     "execution_count": 14,
     "metadata": {},
     "output_type": "execute_result"
    }
   ],
   "source": [
    "i//j"
   ]
  },
  {
   "cell_type": "markdown",
   "id": "158e322f",
   "metadata": {},
   "source": [
    "# Assignment operator"
   ]
  },
  {
   "cell_type": "code",
   "execution_count": 15,
   "id": "48c3e70c",
   "metadata": {},
   "outputs": [],
   "source": [
    "c=10"
   ]
  },
  {
   "cell_type": "markdown",
   "id": "7b9b118d",
   "metadata": {},
   "source": [
    "# Relational operators"
   ]
  },
  {
   "cell_type": "code",
   "execution_count": 22,
   "id": "86d7ae7e",
   "metadata": {},
   "outputs": [],
   "source": [
    "d=10\n",
    "e=20\n"
   ]
  },
  {
   "cell_type": "code",
   "execution_count": 23,
   "id": "f555509c",
   "metadata": {},
   "outputs": [
    {
     "data": {
      "text/plain": [
       "False"
      ]
     },
     "execution_count": 23,
     "metadata": {},
     "output_type": "execute_result"
    }
   ],
   "source": [
    "d==e"
   ]
  },
  {
   "cell_type": "code",
   "execution_count": 24,
   "id": "f7c92e37",
   "metadata": {},
   "outputs": [
    {
     "data": {
      "text/plain": [
       "False"
      ]
     },
     "execution_count": 24,
     "metadata": {},
     "output_type": "execute_result"
    }
   ],
   "source": [
    "d>e"
   ]
  },
  {
   "cell_type": "code",
   "execution_count": 25,
   "id": "d0c241aa",
   "metadata": {},
   "outputs": [
    {
     "data": {
      "text/plain": [
       "True"
      ]
     },
     "execution_count": 25,
     "metadata": {},
     "output_type": "execute_result"
    }
   ],
   "source": [
    "d<e"
   ]
  },
  {
   "cell_type": "code",
   "execution_count": 26,
   "id": "45255657",
   "metadata": {},
   "outputs": [
    {
     "data": {
      "text/plain": [
       "False"
      ]
     },
     "execution_count": 26,
     "metadata": {},
     "output_type": "execute_result"
    }
   ],
   "source": [
    "d>=e"
   ]
  },
  {
   "cell_type": "code",
   "execution_count": 27,
   "id": "b0adc471",
   "metadata": {},
   "outputs": [
    {
     "data": {
      "text/plain": [
       "True"
      ]
     },
     "execution_count": 27,
     "metadata": {},
     "output_type": "execute_result"
    }
   ],
   "source": [
    "d<=e"
   ]
  },
  {
   "cell_type": "code",
   "execution_count": 28,
   "id": "6d86244b",
   "metadata": {},
   "outputs": [
    {
     "data": {
      "text/plain": [
       "True"
      ]
     },
     "execution_count": 28,
     "metadata": {},
     "output_type": "execute_result"
    }
   ],
   "source": [
    "d!=e"
   ]
  },
  {
   "cell_type": "markdown",
   "id": "bd06ea43",
   "metadata": {},
   "source": [
    "# Logical Operatos"
   ]
  },
  {
   "cell_type": "code",
   "execution_count": 29,
   "id": "7b7b961b",
   "metadata": {},
   "outputs": [],
   "source": [
    "k=10\n",
    "l=20"
   ]
  },
  {
   "cell_type": "code",
   "execution_count": 34,
   "id": "58f9467f",
   "metadata": {},
   "outputs": [
    {
     "data": {
      "text/plain": [
       "False"
      ]
     },
     "execution_count": 34,
     "metadata": {},
     "output_type": "execute_result"
    }
   ],
   "source": [
    "k!=10 and print('Stepup')"
   ]
  },
  {
   "cell_type": "code",
   "execution_count": 35,
   "id": "c9a25ffe",
   "metadata": {},
   "outputs": [
    {
     "data": {
      "text/plain": [
       "True"
      ]
     },
     "execution_count": 35,
     "metadata": {},
     "output_type": "execute_result"
    }
   ],
   "source": [
    "k==10 and l==20"
   ]
  },
  {
   "cell_type": "code",
   "execution_count": 36,
   "id": "b98c3947",
   "metadata": {},
   "outputs": [
    {
     "name": "stdout",
     "output_type": "stream",
     "text": [
      "Stepup\n"
     ]
    }
   ],
   "source": [
    "k ==10 and print('Stepup')"
   ]
  },
  {
   "cell_type": "code",
   "execution_count": 37,
   "id": "5c41bf84",
   "metadata": {},
   "outputs": [
    {
     "data": {
      "text/plain": [
       "False"
      ]
     },
     "execution_count": 37,
     "metadata": {},
     "output_type": "execute_result"
    }
   ],
   "source": [
    "k==10 and l==30"
   ]
  },
  {
   "cell_type": "code",
   "execution_count": 38,
   "id": "5d11838d",
   "metadata": {},
   "outputs": [
    {
     "data": {
      "text/plain": [
       "True"
      ]
     },
     "execution_count": 38,
     "metadata": {},
     "output_type": "execute_result"
    }
   ],
   "source": [
    "k==10 or print('Stepup')"
   ]
  },
  {
   "cell_type": "code",
   "execution_count": 39,
   "id": "66e7d411",
   "metadata": {},
   "outputs": [
    {
     "name": "stdout",
     "output_type": "stream",
     "text": [
      "Stepup\n"
     ]
    }
   ],
   "source": [
    "l==10 or print('Stepup')"
   ]
  },
  {
   "cell_type": "code",
   "execution_count": 42,
   "id": "4cb014f3",
   "metadata": {},
   "outputs": [
    {
     "data": {
      "text/plain": [
       "False"
      ]
     },
     "execution_count": 42,
     "metadata": {},
     "output_type": "execute_result"
    }
   ],
   "source": [
    "l==10"
   ]
  },
  {
   "cell_type": "code",
   "execution_count": 43,
   "id": "10edca55",
   "metadata": {},
   "outputs": [
    {
     "data": {
      "text/plain": [
       "True"
      ]
     },
     "execution_count": 43,
     "metadata": {},
     "output_type": "execute_result"
    }
   ],
   "source": [
    "not l==10"
   ]
  },
  {
   "cell_type": "code",
   "execution_count": 44,
   "id": "bd71b04d",
   "metadata": {},
   "outputs": [
    {
     "ename": "SyntaxError",
     "evalue": "invalid syntax (Temp/ipykernel_18040/1524749083.py, line 1)",
     "output_type": "error",
     "traceback": [
      "\u001b[1;36m  File \u001b[1;32m\"C:\\Users\\srinivas\\AppData\\Local\\Temp/ipykernel_18040/1524749083.py\"\u001b[1;36m, line \u001b[1;32m1\u001b[0m\n\u001b[1;33m    l===10\u001b[0m\n\u001b[1;37m       ^\u001b[0m\n\u001b[1;31mSyntaxError\u001b[0m\u001b[1;31m:\u001b[0m invalid syntax\n"
     ]
    }
   ],
   "source": [
    "l===10"
   ]
  },
  {
   "cell_type": "markdown",
   "id": "9d19ceb4",
   "metadata": {},
   "source": [
    "# Membership operator\n"
   ]
  },
  {
   "cell_type": "code",
   "execution_count": 45,
   "id": "3d1aa105",
   "metadata": {},
   "outputs": [],
   "source": [
    "players=['Sachin','Dhoni','Kohli','Uv']"
   ]
  },
  {
   "cell_type": "code",
   "execution_count": 46,
   "id": "244493e5",
   "metadata": {},
   "outputs": [
    {
     "data": {
      "text/plain": [
       "False"
      ]
     },
     "execution_count": 46,
     "metadata": {},
     "output_type": "execute_result"
    }
   ],
   "source": [
    "'Panth' in players"
   ]
  },
  {
   "cell_type": "code",
   "execution_count": 47,
   "id": "a66e00bc",
   "metadata": {},
   "outputs": [
    {
     "data": {
      "text/plain": [
       "True"
      ]
     },
     "execution_count": 47,
     "metadata": {},
     "output_type": "execute_result"
    }
   ],
   "source": [
    "'Uv' in players"
   ]
  },
  {
   "cell_type": "code",
   "execution_count": 48,
   "id": "b3defec8",
   "metadata": {},
   "outputs": [
    {
     "data": {
      "text/plain": [
       "True"
      ]
     },
     "execution_count": 48,
     "metadata": {},
     "output_type": "execute_result"
    }
   ],
   "source": [
    "'Panth' not in players"
   ]
  },
  {
   "cell_type": "code",
   "execution_count": 49,
   "id": "f23c780a",
   "metadata": {},
   "outputs": [],
   "source": [
    "text=\"welcome to python\""
   ]
  },
  {
   "cell_type": "code",
   "execution_count": 50,
   "id": "588fa89a",
   "metadata": {},
   "outputs": [
    {
     "data": {
      "text/plain": [
       "True"
      ]
     },
     "execution_count": 50,
     "metadata": {},
     "output_type": "execute_result"
    }
   ],
   "source": [
    "'to' in text"
   ]
  },
  {
   "cell_type": "markdown",
   "id": "ac9ebc17",
   "metadata": {},
   "source": [
    "# Identity Operator"
   ]
  },
  {
   "cell_type": "code",
   "execution_count": 51,
   "id": "92854382",
   "metadata": {},
   "outputs": [],
   "source": [
    "m=10\n",
    "n=20"
   ]
  },
  {
   "cell_type": "code",
   "execution_count": 52,
   "id": "deec519c",
   "metadata": {},
   "outputs": [
    {
     "data": {
      "text/plain": [
       "False"
      ]
     },
     "execution_count": 52,
     "metadata": {},
     "output_type": "execute_result"
    }
   ],
   "source": [
    "m is n"
   ]
  },
  {
   "cell_type": "code",
   "execution_count": 53,
   "id": "a910a355",
   "metadata": {},
   "outputs": [
    {
     "data": {
      "text/plain": [
       "True"
      ]
     },
     "execution_count": 53,
     "metadata": {},
     "output_type": "execute_result"
    }
   ],
   "source": [
    "m is m"
   ]
  },
  {
   "cell_type": "code",
   "execution_count": 54,
   "id": "580b7b46",
   "metadata": {},
   "outputs": [],
   "source": [
    "o=10"
   ]
  },
  {
   "cell_type": "code",
   "execution_count": 55,
   "id": "35b3c511",
   "metadata": {},
   "outputs": [
    {
     "data": {
      "text/plain": [
       "True"
      ]
     },
     "execution_count": 55,
     "metadata": {},
     "output_type": "execute_result"
    }
   ],
   "source": [
    "m is o"
   ]
  },
  {
   "cell_type": "code",
   "execution_count": 56,
   "id": "aeb18b48",
   "metadata": {},
   "outputs": [
    {
     "data": {
      "text/plain": [
       "2182465323536"
      ]
     },
     "execution_count": 56,
     "metadata": {},
     "output_type": "execute_result"
    }
   ],
   "source": [
    "id(m)"
   ]
  },
  {
   "cell_type": "code",
   "execution_count": 57,
   "id": "d99d24d5",
   "metadata": {},
   "outputs": [
    {
     "data": {
      "text/plain": [
       "2182465323856"
      ]
     },
     "execution_count": 57,
     "metadata": {},
     "output_type": "execute_result"
    }
   ],
   "source": [
    "id(n)"
   ]
  },
  {
   "cell_type": "code",
   "execution_count": 58,
   "id": "f5422e45",
   "metadata": {},
   "outputs": [
    {
     "data": {
      "text/plain": [
       "2182465323536"
      ]
     },
     "execution_count": 58,
     "metadata": {},
     "output_type": "execute_result"
    }
   ],
   "source": [
    "id(o)"
   ]
  },
  {
   "cell_type": "code",
   "execution_count": null,
   "id": "d8d62519",
   "metadata": {},
   "outputs": [],
   "source": []
  }
 ],
 "metadata": {
  "kernelspec": {
   "display_name": "Python 3 (ipykernel)",
   "language": "python",
   "name": "python3"
  },
  "language_info": {
   "codemirror_mode": {
    "name": "ipython",
    "version": 3
   },
   "file_extension": ".py",
   "mimetype": "text/x-python",
   "name": "python",
   "nbconvert_exporter": "python",
   "pygments_lexer": "ipython3",
   "version": "3.10.1"
  }
 },
 "nbformat": 4,
 "nbformat_minor": 5
}
