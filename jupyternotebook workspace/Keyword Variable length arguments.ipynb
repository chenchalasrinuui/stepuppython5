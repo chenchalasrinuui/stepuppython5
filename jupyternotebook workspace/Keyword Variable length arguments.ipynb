{
 "cells": [
  {
   "cell_type": "code",
   "execution_count": 4,
   "id": "8a49adf1",
   "metadata": {},
   "outputs": [],
   "source": [
    "def fn(**data):\n",
    "    print(data)"
   ]
  },
  {
   "cell_type": "code",
   "execution_count": 5,
   "id": "72fe93c5",
   "metadata": {},
   "outputs": [
    {
     "name": "stdout",
     "output_type": "stream",
     "text": [
      "{'name': 'Sachin', 'runs': 2000}\n"
     ]
    }
   ],
   "source": [
    "fn(name='Sachin',runs=2000)"
   ]
  },
  {
   "cell_type": "code",
   "execution_count": 7,
   "id": "ad6b7c4a",
   "metadata": {},
   "outputs": [],
   "source": [
    "def f(*nos,n1):\n",
    "    print('ss')"
   ]
  },
  {
   "cell_type": "code",
   "execution_count": null,
   "id": "74a1a2c4",
   "metadata": {},
   "outputs": [],
   "source": [
    "f(10,20)"
   ]
  }
 ],
 "metadata": {
  "kernelspec": {
   "display_name": "Python 3 (ipykernel)",
   "language": "python",
   "name": "python3"
  },
  "language_info": {
   "codemirror_mode": {
    "name": "ipython",
    "version": 3
   },
   "file_extension": ".py",
   "mimetype": "text/x-python",
   "name": "python",
   "nbconvert_exporter": "python",
   "pygments_lexer": "ipython3",
   "version": "3.10.1"
  }
 },
 "nbformat": 4,
 "nbformat_minor": 5
}
