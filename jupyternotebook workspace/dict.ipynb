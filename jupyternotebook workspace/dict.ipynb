{
 "cells": [
  {
   "cell_type": "code",
   "execution_count": 3,
   "id": "b0fff802",
   "metadata": {},
   "outputs": [],
   "source": [
    "data={\n",
    "   \"name\":\"Sachin\",\n",
    "   \"loc\":\"Mumbia\",\n",
    "   \"hun\":88,\n",
    "   \"fif\":99,\n",
    "   \"runs\":20000\n",
    "}"
   ]
  },
  {
   "cell_type": "code",
   "execution_count": 4,
   "id": "ef9af148",
   "metadata": {},
   "outputs": [
    {
     "name": "stdout",
     "output_type": "stream",
     "text": [
      "<class 'dict'>\n"
     ]
    }
   ],
   "source": [
    "print(type(data))"
   ]
  },
  {
   "cell_type": "code",
   "execution_count": 5,
   "id": "7e97fa92",
   "metadata": {},
   "outputs": [
    {
     "data": {
      "text/plain": [
       "['__class__',\n",
       " '__class_getitem__',\n",
       " '__contains__',\n",
       " '__delattr__',\n",
       " '__delitem__',\n",
       " '__dir__',\n",
       " '__doc__',\n",
       " '__eq__',\n",
       " '__format__',\n",
       " '__ge__',\n",
       " '__getattribute__',\n",
       " '__getitem__',\n",
       " '__gt__',\n",
       " '__hash__',\n",
       " '__init__',\n",
       " '__init_subclass__',\n",
       " '__ior__',\n",
       " '__iter__',\n",
       " '__le__',\n",
       " '__len__',\n",
       " '__lt__',\n",
       " '__ne__',\n",
       " '__new__',\n",
       " '__or__',\n",
       " '__reduce__',\n",
       " '__reduce_ex__',\n",
       " '__repr__',\n",
       " '__reversed__',\n",
       " '__ror__',\n",
       " '__setattr__',\n",
       " '__setitem__',\n",
       " '__sizeof__',\n",
       " '__str__',\n",
       " '__subclasshook__',\n",
       " 'clear',\n",
       " 'copy',\n",
       " 'fromkeys',\n",
       " 'get',\n",
       " 'items',\n",
       " 'keys',\n",
       " 'pop',\n",
       " 'popitem',\n",
       " 'setdefault',\n",
       " 'update',\n",
       " 'values']"
      ]
     },
     "execution_count": 5,
     "metadata": {},
     "output_type": "execute_result"
    }
   ],
   "source": [
    "dir(data)"
   ]
  },
  {
   "cell_type": "code",
   "execution_count": 6,
   "id": "817bee54",
   "metadata": {},
   "outputs": [
    {
     "data": {
      "text/plain": [
       "{'name': 'Sachin', 'loc': 'Mumbia', 'hun': 88, 'fif': 99, 'runs': 20000}"
      ]
     },
     "execution_count": 6,
     "metadata": {},
     "output_type": "execute_result"
    }
   ],
   "source": [
    "data"
   ]
  },
  {
   "cell_type": "code",
   "execution_count": 7,
   "id": "90d6390f",
   "metadata": {},
   "outputs": [],
   "source": [
    "dictObj={}"
   ]
  },
  {
   "cell_type": "code",
   "execution_count": 8,
   "id": "56b83e7e",
   "metadata": {},
   "outputs": [
    {
     "data": {
      "text/plain": [
       "dict"
      ]
     },
     "execution_count": 8,
     "metadata": {},
     "output_type": "execute_result"
    }
   ],
   "source": [
    "type(dictObj)"
   ]
  },
  {
   "cell_type": "code",
   "execution_count": 9,
   "id": "3a500cd2",
   "metadata": {},
   "outputs": [],
   "source": [
    "#insert name,s1\n",
    "\n",
    "dictObj[\"name\"]=\"s1\""
   ]
  },
  {
   "cell_type": "code",
   "execution_count": 10,
   "id": "2f228127",
   "metadata": {},
   "outputs": [
    {
     "data": {
      "text/plain": [
       "{'name': 's1'}"
      ]
     },
     "execution_count": 10,
     "metadata": {},
     "output_type": "execute_result"
    }
   ],
   "source": [
    "dictObj"
   ]
  },
  {
   "cell_type": "code",
   "execution_count": 12,
   "id": "a7135b17",
   "metadata": {},
   "outputs": [],
   "source": [
    "dictObj[\"marks\"]=99"
   ]
  },
  {
   "cell_type": "code",
   "execution_count": 13,
   "id": "101093c3",
   "metadata": {},
   "outputs": [
    {
     "data": {
      "text/plain": [
       "{'name': 's1', 'marks': 99}"
      ]
     },
     "execution_count": 13,
     "metadata": {},
     "output_type": "execute_result"
    }
   ],
   "source": [
    "dictObj"
   ]
  },
  {
   "cell_type": "code",
   "execution_count": 14,
   "id": "525ae43b",
   "metadata": {},
   "outputs": [],
   "source": [
    "#update\n",
    "dictObj[\"marks\"]=88"
   ]
  },
  {
   "cell_type": "code",
   "execution_count": 15,
   "id": "684f594b",
   "metadata": {},
   "outputs": [
    {
     "data": {
      "text/plain": [
       "{'name': 's1', 'marks': 88}"
      ]
     },
     "execution_count": 15,
     "metadata": {},
     "output_type": "execute_result"
    }
   ],
   "source": [
    "dictObj"
   ]
  },
  {
   "cell_type": "code",
   "execution_count": 16,
   "id": "225e68b8",
   "metadata": {},
   "outputs": [],
   "source": [
    "dictObj[\"loc\"]=\"Pune\""
   ]
  },
  {
   "cell_type": "code",
   "execution_count": 17,
   "id": "e3b521ec",
   "metadata": {},
   "outputs": [
    {
     "data": {
      "text/plain": [
       "{'name': 's1', 'marks': 88, 'loc': 'Pune'}"
      ]
     },
     "execution_count": 17,
     "metadata": {},
     "output_type": "execute_result"
    }
   ],
   "source": [
    "dictObj"
   ]
  },
  {
   "cell_type": "code",
   "execution_count": 18,
   "id": "cc676098",
   "metadata": {},
   "outputs": [],
   "source": [
    "dictObj[\"loc\"]=\"Mumbai\""
   ]
  },
  {
   "cell_type": "code",
   "execution_count": 19,
   "id": "c4194a1b",
   "metadata": {},
   "outputs": [
    {
     "data": {
      "text/plain": [
       "{'name': 's1', 'marks': 88, 'loc': 'Mumbai'}"
      ]
     },
     "execution_count": 19,
     "metadata": {},
     "output_type": "execute_result"
    }
   ],
   "source": [
    "dictObj"
   ]
  },
  {
   "cell_type": "code",
   "execution_count": 20,
   "id": "18f26758",
   "metadata": {},
   "outputs": [
    {
     "data": {
      "text/plain": [
       "'s1'"
      ]
     },
     "execution_count": 20,
     "metadata": {},
     "output_type": "execute_result"
    }
   ],
   "source": [
    "dictObj[\"name\"]"
   ]
  },
  {
   "cell_type": "code",
   "execution_count": 21,
   "id": "41160600",
   "metadata": {},
   "outputs": [
    {
     "data": {
      "text/plain": [
       "'Mumbai'"
      ]
     },
     "execution_count": 21,
     "metadata": {},
     "output_type": "execute_result"
    }
   ],
   "source": [
    "dictObj[\"loc\"]"
   ]
  },
  {
   "cell_type": "code",
   "execution_count": 22,
   "id": "5e5d589c",
   "metadata": {},
   "outputs": [],
   "source": [
    "del dictObj[\"loc\"]"
   ]
  },
  {
   "cell_type": "code",
   "execution_count": 23,
   "id": "f7e26d18",
   "metadata": {},
   "outputs": [
    {
     "data": {
      "text/plain": [
       "{'name': 's1', 'marks': 88}"
      ]
     },
     "execution_count": 23,
     "metadata": {},
     "output_type": "execute_result"
    }
   ],
   "source": [
    "dictObj"
   ]
  },
  {
   "cell_type": "code",
   "execution_count": 25,
   "id": "441fef01",
   "metadata": {},
   "outputs": [],
   "source": [
    "dictObj.clear()"
   ]
  },
  {
   "cell_type": "code",
   "execution_count": 26,
   "id": "6f118881",
   "metadata": {},
   "outputs": [
    {
     "data": {
      "text/plain": [
       "{}"
      ]
     },
     "execution_count": 26,
     "metadata": {},
     "output_type": "execute_result"
    }
   ],
   "source": [
    "dictObj"
   ]
  },
  {
   "cell_type": "code",
   "execution_count": 27,
   "id": "db4dd837",
   "metadata": {},
   "outputs": [
    {
     "data": {
      "text/plain": [
       "{'name': 'Sachin', 'loc': 'Mumbia', 'hun': 88, 'fif': 99, 'runs': 20000}"
      ]
     },
     "execution_count": 27,
     "metadata": {},
     "output_type": "execute_result"
    }
   ],
   "source": [
    "data"
   ]
  },
  {
   "cell_type": "code",
   "execution_count": 29,
   "id": "e7b143f0",
   "metadata": {},
   "outputs": [],
   "source": [
    "data2=data.copy()"
   ]
  },
  {
   "cell_type": "code",
   "execution_count": 30,
   "id": "6226f128",
   "metadata": {},
   "outputs": [
    {
     "data": {
      "text/plain": [
       "{'name': 'Sachin', 'loc': 'Mumbia', 'hun': 88, 'fif': 99, 'runs': 20000}"
      ]
     },
     "execution_count": 30,
     "metadata": {},
     "output_type": "execute_result"
    }
   ],
   "source": [
    "data2"
   ]
  },
  {
   "cell_type": "code",
   "execution_count": 49,
   "id": "99438aa0",
   "metadata": {},
   "outputs": [
    {
     "data": {
      "text/plain": [
       "{'name': 333, 'loc': 333}"
      ]
     },
     "execution_count": 49,
     "metadata": {},
     "output_type": "execute_result"
    }
   ],
   "source": [
    "data.fromkeys(['name','loc'],333)"
   ]
  },
  {
   "cell_type": "code",
   "execution_count": 57,
   "id": "9af34aa6",
   "metadata": {},
   "outputs": [
    {
     "data": {
      "text/plain": [
       "'Sachin'"
      ]
     },
     "execution_count": 57,
     "metadata": {},
     "output_type": "execute_result"
    }
   ],
   "source": [
    "data.get('name')"
   ]
  },
  {
   "cell_type": "code",
   "execution_count": 59,
   "id": "47f61310",
   "metadata": {},
   "outputs": [
    {
     "data": {
      "text/plain": [
       "dict_items([('name', 'Sachin'), ('loc', 'Mumbia'), ('hun', 88), ('fif', 99), ('runs', 20000)])"
      ]
     },
     "execution_count": 59,
     "metadata": {},
     "output_type": "execute_result"
    }
   ],
   "source": [
    "data.items()"
   ]
  },
  {
   "cell_type": "code",
   "execution_count": 63,
   "id": "06f128a9",
   "metadata": {},
   "outputs": [
    {
     "name": "stdout",
     "output_type": "stream",
     "text": [
      "('name', 'Sachin')\n",
      "('loc', 'Mumbia')\n",
      "('hun', 88)\n",
      "('fif', 99)\n",
      "('runs', 20000)\n"
     ]
    }
   ],
   "source": [
    "for item in data.items():\n",
    "    print(item)"
   ]
  },
  {
   "cell_type": "code",
   "execution_count": 65,
   "id": "f9f72a5b",
   "metadata": {},
   "outputs": [
    {
     "data": {
      "text/plain": [
       "dict_keys(['name', 'loc', 'hun', 'fif', 'runs'])"
      ]
     },
     "execution_count": 65,
     "metadata": {},
     "output_type": "execute_result"
    }
   ],
   "source": [
    "data.keys()"
   ]
  },
  {
   "cell_type": "code",
   "execution_count": 68,
   "id": "3282f29a",
   "metadata": {},
   "outputs": [
    {
     "name": "stdout",
     "output_type": "stream",
     "text": [
      "name...Sachin\n",
      "loc...Mumbia\n",
      "hun...88\n",
      "fif...99\n",
      "runs...20000\n"
     ]
    }
   ],
   "source": [
    "for key in data.keys():\n",
    "    print(key+'...'+ str(data[key]))"
   ]
  },
  {
   "cell_type": "code",
   "execution_count": 69,
   "id": "d7d3817e",
   "metadata": {},
   "outputs": [
    {
     "data": {
      "text/plain": [
       "{'name': 'Sachin', 'loc': 'Mumbia', 'hun': 88, 'fif': 99, 'runs': 20000}"
      ]
     },
     "execution_count": 69,
     "metadata": {},
     "output_type": "execute_result"
    }
   ],
   "source": [
    "data\n"
   ]
  },
  {
   "cell_type": "code",
   "execution_count": 71,
   "id": "ff3f4315",
   "metadata": {},
   "outputs": [
    {
     "data": {
      "text/plain": [
       "99"
      ]
     },
     "execution_count": 71,
     "metadata": {},
     "output_type": "execute_result"
    }
   ],
   "source": [
    "data.pop('fif')"
   ]
  },
  {
   "cell_type": "code",
   "execution_count": 72,
   "id": "4bdf3b40",
   "metadata": {},
   "outputs": [
    {
     "data": {
      "text/plain": [
       "{'name': 'Sachin', 'loc': 'Mumbia', 'hun': 88, 'runs': 20000}"
      ]
     },
     "execution_count": 72,
     "metadata": {},
     "output_type": "execute_result"
    }
   ],
   "source": [
    "data"
   ]
  },
  {
   "cell_type": "code",
   "execution_count": 73,
   "id": "fb0d7ff6",
   "metadata": {},
   "outputs": [
    {
     "data": {
      "text/plain": [
       "('runs', 20000)"
      ]
     },
     "execution_count": 73,
     "metadata": {},
     "output_type": "execute_result"
    }
   ],
   "source": [
    "data.popitem()"
   ]
  },
  {
   "cell_type": "code",
   "execution_count": 74,
   "id": "b70f34e8",
   "metadata": {},
   "outputs": [
    {
     "data": {
      "text/plain": [
       "{'name': 'Sachin', 'loc': 'Mumbia', 'hun': 88}"
      ]
     },
     "execution_count": 74,
     "metadata": {},
     "output_type": "execute_result"
    }
   ],
   "source": [
    "data"
   ]
  },
  {
   "cell_type": "code",
   "execution_count": 75,
   "id": "b6a2b818",
   "metadata": {},
   "outputs": [
    {
     "data": {
      "text/plain": [
       "<function dict.setdefault(key, default=None, /)>"
      ]
     },
     "execution_count": 75,
     "metadata": {},
     "output_type": "execute_result"
    }
   ],
   "source": [
    "data.setdefault"
   ]
  },
  {
   "cell_type": "code",
   "execution_count": 76,
   "id": "1563cf8d",
   "metadata": {},
   "outputs": [
    {
     "data": {
      "text/plain": [
       "{'name': 'Sachin', 'loc': 'Mumbia', 'hun': 88}"
      ]
     },
     "execution_count": 76,
     "metadata": {},
     "output_type": "execute_result"
    }
   ],
   "source": [
    "data"
   ]
  },
  {
   "cell_type": "code",
   "execution_count": 79,
   "id": "3dce23a0",
   "metadata": {},
   "outputs": [],
   "source": [
    "data.setdefault('fif')"
   ]
  },
  {
   "cell_type": "code",
   "execution_count": 80,
   "id": "9ae389ef",
   "metadata": {},
   "outputs": [
    {
     "data": {
      "text/plain": [
       "{'name': 'Sachin', 'loc': 'Mumbia', 'hun': 88, 'fif': None}"
      ]
     },
     "execution_count": 80,
     "metadata": {},
     "output_type": "execute_result"
    }
   ],
   "source": [
    "data"
   ]
  },
  {
   "cell_type": "code",
   "execution_count": 81,
   "id": "94760763",
   "metadata": {},
   "outputs": [
    {
     "data": {
      "text/plain": [
       "20000"
      ]
     },
     "execution_count": 81,
     "metadata": {},
     "output_type": "execute_result"
    }
   ],
   "source": [
    "data.setdefault('runs',20000)"
   ]
  },
  {
   "cell_type": "code",
   "execution_count": 82,
   "id": "58d52e6d",
   "metadata": {},
   "outputs": [
    {
     "data": {
      "text/plain": [
       "{'name': 'Sachin', 'loc': 'Mumbia', 'hun': 88, 'fif': None, 'runs': 20000}"
      ]
     },
     "execution_count": 82,
     "metadata": {},
     "output_type": "execute_result"
    }
   ],
   "source": [
    "data"
   ]
  },
  {
   "cell_type": "code",
   "execution_count": 93,
   "id": "81a2d73c",
   "metadata": {},
   "outputs": [],
   "source": [
    "data.update({'loc':'Mumbai','hun':100})"
   ]
  },
  {
   "cell_type": "code",
   "execution_count": 94,
   "id": "0f75dd18",
   "metadata": {},
   "outputs": [
    {
     "data": {
      "text/plain": [
       "{'name': 'Sachin', 'loc': 'Mumbai', 'hun': 100, 'fif': None, 'runs': 20000}"
      ]
     },
     "execution_count": 94,
     "metadata": {},
     "output_type": "execute_result"
    }
   ],
   "source": [
    "data"
   ]
  },
  {
   "cell_type": "code",
   "execution_count": 95,
   "id": "e141a4db",
   "metadata": {},
   "outputs": [
    {
     "data": {
      "text/plain": [
       "dict_values(['Sachin', 'Mumbai', 100, None, 20000])"
      ]
     },
     "execution_count": 95,
     "metadata": {},
     "output_type": "execute_result"
    }
   ],
   "source": [
    "data.values()"
   ]
  },
  {
   "cell_type": "code",
   "execution_count": null,
   "id": "f248d72c",
   "metadata": {},
   "outputs": [],
   "source": []
  }
 ],
 "metadata": {
  "kernelspec": {
   "display_name": "Python 3 (ipykernel)",
   "language": "python",
   "name": "python3"
  },
  "language_info": {
   "codemirror_mode": {
    "name": "ipython",
    "version": 3
   },
   "file_extension": ".py",
   "mimetype": "text/x-python",
   "name": "python",
   "nbconvert_exporter": "python",
   "pygments_lexer": "ipython3",
   "version": "3.10.1"
  }
 },
 "nbformat": 4,
 "nbformat_minor": 5
}
