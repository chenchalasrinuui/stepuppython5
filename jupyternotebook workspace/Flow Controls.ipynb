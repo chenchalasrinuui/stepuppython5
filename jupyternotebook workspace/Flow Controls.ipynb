{
 "cells": [
  {
   "cell_type": "markdown",
   "id": "10ec9ca5",
   "metadata": {},
   "source": [
    "# Sequential Statements"
   ]
  },
  {
   "cell_type": "code",
   "execution_count": 1,
   "id": "85d323d0",
   "metadata": {},
   "outputs": [
    {
     "name": "stdout",
     "output_type": "stream",
     "text": [
      "1\n",
      "2\n",
      "3\n"
     ]
    }
   ],
   "source": [
    "print(1)\n",
    "print(2)\n",
    "print(3)"
   ]
  },
  {
   "cell_type": "markdown",
   "id": "442d33f5",
   "metadata": {},
   "source": [
    "# Conditional execution"
   ]
  },
  {
   "cell_type": "code",
   "execution_count": 3,
   "id": "4d3e198f",
   "metadata": {},
   "outputs": [
    {
     "name": "stdout",
     "output_type": "stream",
     "text": [
      "This is Dhoni\n"
     ]
    }
   ],
   "source": [
    "name='Dhoni'\n",
    "print('This is '+name)\n",
    "if name=='Sachin':\n",
    "    print('I am from Mumbai')\n",
    "    print('My runs are 2000')\n",
    "    "
   ]
  },
  {
   "cell_type": "code",
   "execution_count": 15,
   "id": "1dfc6d7e",
   "metadata": {},
   "outputs": [
    {
     "name": "stdout",
     "output_type": "stream",
     "text": [
      "Biggenst not is 1000\n"
     ]
    }
   ],
   "source": [
    "no1=1000\n",
    "no2=200\n",
    "\n",
    "max=no1\n",
    "if(max<no2):\n",
    "    max=no2\n",
    "\n",
    "print('Biggenst not is {}'.format(max))\n"
   ]
  },
  {
   "cell_type": "code",
   "execution_count": 16,
   "id": "de3c505b",
   "metadata": {},
   "outputs": [
    {
     "name": "stdout",
     "output_type": "stream",
     "text": [
      "biggest not is 1000\n"
     ]
    }
   ],
   "source": [
    "if no1>no2:\n",
    "    print('biggest not is {}'.format(no1))\n",
    "else:\n",
    "    print('biggest not is {}'.format(no2))"
   ]
  },
  {
   "cell_type": "code",
   "execution_count": null,
   "id": "468b35a4",
   "metadata": {},
   "outputs": [],
   "source": [
    "no=input('Enter no')\n",
    "\n",
    "if no=='0':\n",
    "    print('You entered ',no)\n",
    "elif no=='1':\n",
    "    print('You entered ',no)\n",
    "elif no=='2':\n",
    "    print('You entered ',no)\n",
    "else:\n",
    "    print('You entered > 2 number')"
   ]
  },
  {
   "cell_type": "markdown",
   "id": "7f00605b",
   "metadata": {},
   "source": [
    "# Looping"
   ]
  },
  {
   "cell_type": "code",
   "execution_count": 1,
   "id": "5a9df2b4",
   "metadata": {},
   "outputs": [
    {
     "data": {
      "text/plain": [
       "range(1, 6)"
      ]
     },
     "execution_count": 1,
     "metadata": {},
     "output_type": "execute_result"
    }
   ],
   "source": [
    "range(1,6)"
   ]
  },
  {
   "cell_type": "code",
   "execution_count": 2,
   "id": "62020cc2",
   "metadata": {},
   "outputs": [
    {
     "name": "stdout",
     "output_type": "stream",
     "text": [
      "1\n",
      "2\n",
      "1\n",
      "2\n",
      "1\n",
      "2\n",
      "1\n",
      "2\n",
      "1\n",
      "2\n"
     ]
    }
   ],
   "source": [
    "for val  in range(1,6):\n",
    "    print(1)\n",
    "    print(2)"
   ]
  },
  {
   "cell_type": "code",
   "execution_count": 3,
   "id": "cc4a7175",
   "metadata": {},
   "outputs": [
    {
     "name": "stdout",
     "output_type": "stream",
     "text": [
      "1\n",
      "2\n",
      "3\n",
      "4\n",
      "5\n"
     ]
    }
   ],
   "source": [
    "for val  in range(1,6):\n",
    "    print(val)"
   ]
  },
  {
   "cell_type": "code",
   "execution_count": 4,
   "id": "914e4bcf",
   "metadata": {},
   "outputs": [
    {
     "name": "stdout",
     "output_type": "stream",
     "text": [
      "s\n",
      "a\n",
      "c\n",
      "h\n",
      "i\n",
      "n\n"
     ]
    }
   ],
   "source": [
    "for val in 'sachin':\n",
    "    print(val)"
   ]
  },
  {
   "cell_type": "code",
   "execution_count": 6,
   "id": "91b2ebc9",
   "metadata": {},
   "outputs": [
    {
     "name": "stdout",
     "output_type": "stream",
     "text": [
      "Sachin\n",
      "Dhoni\n"
     ]
    }
   ],
   "source": [
    "for val in ['Sachin','Dhoni']:\n",
    "    print(val)"
   ]
  },
  {
   "cell_type": "code",
   "execution_count": 7,
   "id": "100aeadd",
   "metadata": {},
   "outputs": [
    {
     "name": "stdout",
     "output_type": "stream",
     "text": [
      "Sachin\n",
      "Dhoni\n"
     ]
    }
   ],
   "source": [
    "for val in ('Sachin','Dhoni'):\n",
    "    print(val)"
   ]
  },
  {
   "cell_type": "code",
   "execution_count": 8,
   "id": "eefdc881",
   "metadata": {},
   "outputs": [
    {
     "name": "stdout",
     "output_type": "stream",
     "text": [
      "Dhoni\n",
      "Sachin\n"
     ]
    }
   ],
   "source": [
    "for val in {'Sachin','Dhoni'}:\n",
    "    print(val)"
   ]
  },
  {
   "cell_type": "code",
   "execution_count": 10,
   "id": "487d23dd",
   "metadata": {},
   "outputs": [
    {
     "name": "stdout",
     "output_type": "stream",
     "text": [
      "name\n",
      "runs\n"
     ]
    }
   ],
   "source": [
    "for val in {'name':'Sachin','runs':20000}:\n",
    "    print(val)"
   ]
  },
  {
   "cell_type": "code",
   "execution_count": null,
   "id": "da17598e",
   "metadata": {},
   "outputs": [],
   "source": [
    "i=1 # initialization\n",
    "while i<=5:\n",
    "    print('Sachin')\n",
    "    i=i+1"
   ]
  },
  {
   "cell_type": "code",
   "execution_count": null,
   "id": "6d9cba9d",
   "metadata": {},
   "outputs": [],
   "source": [
    "for val "
   ]
  }
 ],
 "metadata": {
  "kernelspec": {
   "display_name": "Python 3 (ipykernel)",
   "language": "python",
   "name": "python3"
  },
  "language_info": {
   "codemirror_mode": {
    "name": "ipython",
    "version": 3
   },
   "file_extension": ".py",
   "mimetype": "text/x-python",
   "name": "python",
   "nbconvert_exporter": "python",
   "pygments_lexer": "ipython3",
   "version": "3.10.1"
  }
 },
 "nbformat": 4,
 "nbformat_minor": 5
}
