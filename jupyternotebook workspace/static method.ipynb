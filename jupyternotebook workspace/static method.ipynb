{
 "cells": [
  {
   "cell_type": "code",
   "execution_count": 9,
   "id": "e3b69b1e",
   "metadata": {},
   "outputs": [],
   "source": [
    "class A:\n",
    "    def f1(self):\n",
    "        print('f1 called')\n",
    "    @staticmethod    \n",
    "    def f2():\n",
    "        print('f2 called')"
   ]
  },
  {
   "cell_type": "code",
   "execution_count": 10,
   "id": "670a9df8",
   "metadata": {},
   "outputs": [],
   "source": [
    "obj= A()"
   ]
  },
  {
   "cell_type": "code",
   "execution_count": 11,
   "id": "4c72313c",
   "metadata": {},
   "outputs": [
    {
     "name": "stdout",
     "output_type": "stream",
     "text": [
      "f1 called\n"
     ]
    }
   ],
   "source": [
    "obj.f1() # obj.f1(obj)"
   ]
  },
  {
   "cell_type": "code",
   "execution_count": 12,
   "id": "638aea20",
   "metadata": {},
   "outputs": [
    {
     "name": "stdout",
     "output_type": "stream",
     "text": [
      "f2 called\n"
     ]
    }
   ],
   "source": [
    "obj.f2() # obj.f2()"
   ]
  },
  {
   "cell_type": "code",
   "execution_count": 13,
   "id": "c0f84143",
   "metadata": {},
   "outputs": [
    {
     "ename": "TypeError",
     "evalue": "A.f1() missing 1 required positional argument: 'self'",
     "output_type": "error",
     "traceback": [
      "\u001b[1;31m---------------------------------------------------------------------------\u001b[0m",
      "\u001b[1;31mTypeError\u001b[0m                                 Traceback (most recent call last)",
      "\u001b[1;32m~\\AppData\\Local\\Temp/ipykernel_9836/3855818336.py\u001b[0m in \u001b[0;36m<module>\u001b[1;34m\u001b[0m\n\u001b[1;32m----> 1\u001b[1;33m \u001b[0mA\u001b[0m\u001b[1;33m.\u001b[0m\u001b[0mf1\u001b[0m\u001b[1;33m(\u001b[0m\u001b[1;33m)\u001b[0m \u001b[1;31m# A.f1()\u001b[0m\u001b[1;33m\u001b[0m\u001b[1;33m\u001b[0m\u001b[0m\n\u001b[0m",
      "\u001b[1;31mTypeError\u001b[0m: A.f1() missing 1 required positional argument: 'self'"
     ]
    }
   ],
   "source": [
    "A.f1() # A.f1()"
   ]
  },
  {
   "cell_type": "code",
   "execution_count": null,
   "id": "805cf881",
   "metadata": {},
   "outputs": [],
   "source": [
    "A.f2() # A.f2()"
   ]
  },
  {
   "cell_type": "code",
   "execution_count": null,
   "id": "fbb06f05",
   "metadata": {},
   "outputs": [],
   "source": []
  }
 ],
 "metadata": {
  "kernelspec": {
   "display_name": "Python 3 (ipykernel)",
   "language": "python",
   "name": "python3"
  },
  "language_info": {
   "codemirror_mode": {
    "name": "ipython",
    "version": 3
   },
   "file_extension": ".py",
   "mimetype": "text/x-python",
   "name": "python",
   "nbconvert_exporter": "python",
   "pygments_lexer": "ipython3",
   "version": "3.10.1"
  }
 },
 "nbformat": 4,
 "nbformat_minor": 5
}
