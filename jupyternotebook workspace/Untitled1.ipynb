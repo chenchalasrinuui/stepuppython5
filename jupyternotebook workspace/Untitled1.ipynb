{
 "cells": [
  {
   "cell_type": "code",
   "execution_count": 5,
   "id": "7b15ee72",
   "metadata": {},
   "outputs": [],
   "source": [
    "class A:\n",
    "    def f1():\n",
    "        print('f1 called')\n",
    "    #constructor\n",
    "    def __init__(self):\n",
    "        print(type(self))\n",
    "        print('__init__ called')"
   ]
  },
  {
   "cell_type": "code",
   "execution_count": 6,
   "id": "8ec1489a",
   "metadata": {},
   "outputs": [
    {
     "name": "stdout",
     "output_type": "stream",
     "text": [
      "<class '__main__.A'>\n",
      "__init__ called\n"
     ]
    }
   ],
   "source": [
    "obj=A()\n",
    "#obj=A()\n",
    "#__init__(obj)"
   ]
  },
  {
   "cell_type": "code",
   "execution_count": 11,
   "id": "24f6b772",
   "metadata": {},
   "outputs": [],
   "source": [
    "class B:\n",
    "    school='vts'\n",
    "    def __init__(self):\n",
    "        self.name='s1'\n",
    "        self.rno=1\n",
    "        pass\n",
    "    def getStdDetails(self):\n",
    "        loc='Mumbai'\n",
    "        pass\n",
    "        "
   ]
  },
  {
   "cell_type": "code",
   "execution_count": 12,
   "id": "2d09400e",
   "metadata": {},
   "outputs": [],
   "source": [
    "obj=B()"
   ]
  },
  {
   "cell_type": "code",
   "execution_count": 13,
   "id": "91e74ee6",
   "metadata": {},
   "outputs": [
    {
     "data": {
      "text/plain": [
       "'vts'"
      ]
     },
     "execution_count": 13,
     "metadata": {},
     "output_type": "execute_result"
    }
   ],
   "source": [
    "obj.school"
   ]
  },
  {
   "cell_type": "code",
   "execution_count": 14,
   "id": "aa90eb88",
   "metadata": {},
   "outputs": [
    {
     "data": {
      "text/plain": [
       "'vts'"
      ]
     },
     "execution_count": 14,
     "metadata": {},
     "output_type": "execute_result"
    }
   ],
   "source": [
    "B.school"
   ]
  },
  {
   "cell_type": "code",
   "execution_count": 15,
   "id": "7a0c2bd8",
   "metadata": {},
   "outputs": [
    {
     "data": {
      "text/plain": [
       "'s1'"
      ]
     },
     "execution_count": 15,
     "metadata": {},
     "output_type": "execute_result"
    }
   ],
   "source": [
    "obj.name"
   ]
  },
  {
   "cell_type": "code",
   "execution_count": 16,
   "id": "52bc4b4c",
   "metadata": {},
   "outputs": [
    {
     "ename": "AttributeError",
     "evalue": "type object 'B' has no attribute 'name'",
     "output_type": "error",
     "traceback": [
      "\u001b[1;31m---------------------------------------------------------------------------\u001b[0m",
      "\u001b[1;31mAttributeError\u001b[0m                            Traceback (most recent call last)",
      "\u001b[1;32m~\\AppData\\Local\\Temp/ipykernel_22672/3774604208.py\u001b[0m in \u001b[0;36m<module>\u001b[1;34m\u001b[0m\n\u001b[1;32m----> 1\u001b[1;33m \u001b[0mB\u001b[0m\u001b[1;33m.\u001b[0m\u001b[0mname\u001b[0m\u001b[1;33m\u001b[0m\u001b[1;33m\u001b[0m\u001b[0m\n\u001b[0m",
      "\u001b[1;31mAttributeError\u001b[0m: type object 'B' has no attribute 'name'"
     ]
    }
   ],
   "source": [
    "B.name"
   ]
  },
  {
   "cell_type": "code",
   "execution_count": 17,
   "id": "3278f886",
   "metadata": {},
   "outputs": [
    {
     "ename": "AttributeError",
     "evalue": "type object 'B' has no attribute 'rno'",
     "output_type": "error",
     "traceback": [
      "\u001b[1;31m---------------------------------------------------------------------------\u001b[0m",
      "\u001b[1;31mAttributeError\u001b[0m                            Traceback (most recent call last)",
      "\u001b[1;32m~\\AppData\\Local\\Temp/ipykernel_22672/1822822519.py\u001b[0m in \u001b[0;36m<module>\u001b[1;34m\u001b[0m\n\u001b[1;32m----> 1\u001b[1;33m \u001b[0mB\u001b[0m\u001b[1;33m.\u001b[0m\u001b[0mrno\u001b[0m\u001b[1;33m\u001b[0m\u001b[1;33m\u001b[0m\u001b[0m\n\u001b[0m",
      "\u001b[1;31mAttributeError\u001b[0m: type object 'B' has no attribute 'rno'"
     ]
    }
   ],
   "source": [
    "B.rno"
   ]
  },
  {
   "cell_type": "code",
   "execution_count": 18,
   "id": "de445835",
   "metadata": {},
   "outputs": [
    {
     "data": {
      "text/plain": [
       "1"
      ]
     },
     "execution_count": 18,
     "metadata": {},
     "output_type": "execute_result"
    }
   ],
   "source": [
    "obj.rno"
   ]
  },
  {
   "cell_type": "code",
   "execution_count": 19,
   "id": "36153bf5",
   "metadata": {},
   "outputs": [
    {
     "ename": "AttributeError",
     "evalue": "'B' object has no attribute 'loc'",
     "output_type": "error",
     "traceback": [
      "\u001b[1;31m---------------------------------------------------------------------------\u001b[0m",
      "\u001b[1;31mAttributeError\u001b[0m                            Traceback (most recent call last)",
      "\u001b[1;32m~\\AppData\\Local\\Temp/ipykernel_22672/2770792181.py\u001b[0m in \u001b[0;36m<module>\u001b[1;34m\u001b[0m\n\u001b[1;32m----> 1\u001b[1;33m \u001b[0mobj\u001b[0m\u001b[1;33m.\u001b[0m\u001b[0mloc\u001b[0m\u001b[1;33m\u001b[0m\u001b[1;33m\u001b[0m\u001b[0m\n\u001b[0m",
      "\u001b[1;31mAttributeError\u001b[0m: 'B' object has no attribute 'loc'"
     ]
    }
   ],
   "source": [
    "obj.loc"
   ]
  },
  {
   "cell_type": "code",
   "execution_count": 20,
   "id": "8b5df2dd",
   "metadata": {},
   "outputs": [
    {
     "ename": "AttributeError",
     "evalue": "type object 'B' has no attribute 'loc'",
     "output_type": "error",
     "traceback": [
      "\u001b[1;31m---------------------------------------------------------------------------\u001b[0m",
      "\u001b[1;31mAttributeError\u001b[0m                            Traceback (most recent call last)",
      "\u001b[1;32m~\\AppData\\Local\\Temp/ipykernel_22672/1608377875.py\u001b[0m in \u001b[0;36m<module>\u001b[1;34m\u001b[0m\n\u001b[1;32m----> 1\u001b[1;33m \u001b[0mB\u001b[0m\u001b[1;33m.\u001b[0m\u001b[0mloc\u001b[0m\u001b[1;33m\u001b[0m\u001b[1;33m\u001b[0m\u001b[0m\n\u001b[0m",
      "\u001b[1;31mAttributeError\u001b[0m: type object 'B' has no attribute 'loc'"
     ]
    }
   ],
   "source": [
    "B.loc"
   ]
  },
  {
   "cell_type": "code",
   "execution_count": 33,
   "id": "953baec1",
   "metadata": {},
   "outputs": [],
   "source": [
    "class Student:\n",
    "    school='VTS'\n",
    "    def __init__(self,name,rno):\n",
    "        self.name=name\n",
    "        self.rno=rno\n",
    "    def getStdDetails(self):\n",
    "        print('{},{},{}'.format(self.name,self.rno,self.school))"
   ]
  },
  {
   "cell_type": "code",
   "execution_count": 34,
   "id": "4ee2927d",
   "metadata": {},
   "outputs": [],
   "source": [
    "obj1=Student('s1',1) \n",
    "#obj1=Student()\n",
    "#obj1.__init__(obj1,'s1',1)"
   ]
  },
  {
   "cell_type": "code",
   "execution_count": 37,
   "id": "872a99cc",
   "metadata": {},
   "outputs": [
    {
     "name": "stdout",
     "output_type": "stream",
     "text": [
      "s1,1,VTS\n"
     ]
    }
   ],
   "source": [
    "obj1.getStdDetails()"
   ]
  },
  {
   "cell_type": "code",
   "execution_count": 36,
   "id": "eab4bc3f",
   "metadata": {},
   "outputs": [],
   "source": [
    "obj2=Student('s2',2)"
   ]
  },
  {
   "cell_type": "code",
   "execution_count": 38,
   "id": "2fd00dcd",
   "metadata": {},
   "outputs": [
    {
     "name": "stdout",
     "output_type": "stream",
     "text": [
      "s2,2,VTS\n"
     ]
    }
   ],
   "source": [
    "obj2.getStdDetails()"
   ]
  },
  {
   "cell_type": "code",
   "execution_count": null,
   "id": "0df8e1d6",
   "metadata": {},
   "outputs": [],
   "source": []
  }
 ],
 "metadata": {
  "kernelspec": {
   "display_name": "Python 3 (ipykernel)",
   "language": "python",
   "name": "python3"
  },
  "language_info": {
   "codemirror_mode": {
    "name": "ipython",
    "version": 3
   },
   "file_extension": ".py",
   "mimetype": "text/x-python",
   "name": "python",
   "nbconvert_exporter": "python",
   "pygments_lexer": "ipython3",
   "version": "3.10.1"
  }
 },
 "nbformat": 4,
 "nbformat_minor": 5
}
