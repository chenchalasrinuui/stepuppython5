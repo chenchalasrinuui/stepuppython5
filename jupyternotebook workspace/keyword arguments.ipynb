{
 "cells": [
  {
   "cell_type": "code",
   "execution_count": 2,
   "id": "ecbac7eb",
   "metadata": {},
   "outputs": [],
   "source": [
    "def f(fn,ln):\n",
    "    print(fn + ln)"
   ]
  },
  {
   "cell_type": "code",
   "execution_count": 3,
   "id": "412502e3",
   "metadata": {},
   "outputs": [
    {
     "name": "stdout",
     "output_type": "stream",
     "text": [
      "SachinTendulkar\n"
     ]
    }
   ],
   "source": [
    "f('Sachin','Tendulkar')"
   ]
  },
  {
   "cell_type": "code",
   "execution_count": 4,
   "id": "ed5f5261",
   "metadata": {},
   "outputs": [
    {
     "name": "stdout",
     "output_type": "stream",
     "text": [
      "TendulkarSachin\n"
     ]
    }
   ],
   "source": [
    "f('Tendulkar', 'Sachin')"
   ]
  },
  {
   "cell_type": "code",
   "execution_count": 5,
   "id": "26750c55",
   "metadata": {},
   "outputs": [
    {
     "name": "stdout",
     "output_type": "stream",
     "text": [
      "SachinTendular\n"
     ]
    }
   ],
   "source": [
    "f(ln='Tendular', fn=\"Sachin\")"
   ]
  },
  {
   "cell_type": "code",
   "execution_count": 9,
   "id": "390837fc",
   "metadata": {},
   "outputs": [],
   "source": [
    "def f2(n1,n2,n3):\n",
    "    print(n1+n2+n3)"
   ]
  },
  {
   "cell_type": "code",
   "execution_count": 7,
   "id": "b88e4835",
   "metadata": {},
   "outputs": [
    {
     "name": "stdout",
     "output_type": "stream",
     "text": [
      "60\n"
     ]
    }
   ],
   "source": [
    "f2(10,20,30)"
   ]
  },
  {
   "cell_type": "code",
   "execution_count": 8,
   "id": "df38d380",
   "metadata": {},
   "outputs": [
    {
     "name": "stdout",
     "output_type": "stream",
     "text": [
      "60\n"
     ]
    }
   ],
   "source": [
    "f2(n1=10,n2=20,n3=30)"
   ]
  },
  {
   "cell_type": "code",
   "execution_count": 10,
   "id": "ede0fce7",
   "metadata": {},
   "outputs": [
    {
     "name": "stdout",
     "output_type": "stream",
     "text": [
      "60\n"
     ]
    }
   ],
   "source": [
    "f2(n3=30,n1=10,n2=20)"
   ]
  },
  {
   "cell_type": "code",
   "execution_count": 11,
   "id": "a2058500",
   "metadata": {},
   "outputs": [
    {
     "ename": "SyntaxError",
     "evalue": "positional argument follows keyword argument (Temp/ipykernel_23772/4227735224.py, line 1)",
     "output_type": "error",
     "traceback": [
      "\u001b[1;36m  File \u001b[1;32m\"C:\\Users\\srinivas\\AppData\\Local\\Temp/ipykernel_23772/4227735224.py\"\u001b[1;36m, line \u001b[1;32m1\u001b[0m\n\u001b[1;33m    f2(n1=10,20,30)\u001b[0m\n\u001b[1;37m                  ^\u001b[0m\n\u001b[1;31mSyntaxError\u001b[0m\u001b[1;31m:\u001b[0m positional argument follows keyword argument\n"
     ]
    }
   ],
   "source": [
    "f2(n1=10,20,30)"
   ]
  },
  {
   "cell_type": "code",
   "execution_count": 12,
   "id": "ae1b4e5a",
   "metadata": {},
   "outputs": [
    {
     "ename": "SyntaxError",
     "evalue": "positional argument follows keyword argument (Temp/ipykernel_23772/3182804742.py, line 1)",
     "output_type": "error",
     "traceback": [
      "\u001b[1;36m  File \u001b[1;32m\"C:\\Users\\srinivas\\AppData\\Local\\Temp/ipykernel_23772/3182804742.py\"\u001b[1;36m, line \u001b[1;32m1\u001b[0m\n\u001b[1;33m    f2(10,n2=20,30)\u001b[0m\n\u001b[1;37m                  ^\u001b[0m\n\u001b[1;31mSyntaxError\u001b[0m\u001b[1;31m:\u001b[0m positional argument follows keyword argument\n"
     ]
    }
   ],
   "source": [
    "f2(10,n2=20,30)"
   ]
  },
  {
   "cell_type": "code",
   "execution_count": 13,
   "id": "306aa8c2",
   "metadata": {},
   "outputs": [
    {
     "ename": "TypeError",
     "evalue": "f2() got multiple values for argument 'n1'",
     "output_type": "error",
     "traceback": [
      "\u001b[1;31m---------------------------------------------------------------------------\u001b[0m",
      "\u001b[1;31mTypeError\u001b[0m                                 Traceback (most recent call last)",
      "\u001b[1;32m~\\AppData\\Local\\Temp/ipykernel_23772/1912618925.py\u001b[0m in \u001b[0;36m<module>\u001b[1;34m\u001b[0m\n\u001b[1;32m----> 1\u001b[1;33m \u001b[0mf2\u001b[0m\u001b[1;33m(\u001b[0m\u001b[1;36m10\u001b[0m\u001b[1;33m,\u001b[0m\u001b[1;36m20\u001b[0m\u001b[1;33m,\u001b[0m\u001b[0mn1\u001b[0m\u001b[1;33m=\u001b[0m\u001b[1;36m10\u001b[0m\u001b[1;33m)\u001b[0m\u001b[1;33m\u001b[0m\u001b[1;33m\u001b[0m\u001b[0m\n\u001b[0m",
      "\u001b[1;31mTypeError\u001b[0m: f2() got multiple values for argument 'n1'"
     ]
    }
   ],
   "source": [
    "f2(10,20,n1=10)"
   ]
  },
  {
   "cell_type": "code",
   "execution_count": null,
   "id": "5ebf9649",
   "metadata": {},
   "outputs": [],
   "source": []
  }
 ],
 "metadata": {
  "kernelspec": {
   "display_name": "Python 3 (ipykernel)",
   "language": "python",
   "name": "python3"
  },
  "language_info": {
   "codemirror_mode": {
    "name": "ipython",
    "version": 3
   },
   "file_extension": ".py",
   "mimetype": "text/x-python",
   "name": "python",
   "nbconvert_exporter": "python",
   "pygments_lexer": "ipython3",
   "version": "3.10.1"
  }
 },
 "nbformat": 4,
 "nbformat_minor": 5
}
