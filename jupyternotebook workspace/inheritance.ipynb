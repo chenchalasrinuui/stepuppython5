{
 "cells": [
  {
   "cell_type": "code",
   "execution_count": 35,
   "id": "62593671",
   "metadata": {},
   "outputs": [],
   "source": [
    "class B:\n",
    "    #parent, super, base class\n",
    "    n2=20\n",
    "class A(B):\n",
    "    #child, sub, derived class\n",
    "    n1=10\n",
    "    def f1(self):\n",
    "        print(self.n1+self.n2)\n",
    "        "
   ]
  },
  {
   "cell_type": "code",
   "execution_count": 36,
   "id": "17a7060a",
   "metadata": {},
   "outputs": [],
   "source": [
    "obj=A()"
   ]
  },
  {
   "cell_type": "code",
   "execution_count": 37,
   "id": "27530e70",
   "metadata": {},
   "outputs": [
    {
     "name": "stdout",
     "output_type": "stream",
     "text": [
      "30\n"
     ]
    }
   ],
   "source": [
    "obj.f1()"
   ]
  },
  {
   "cell_type": "markdown",
   "id": "bb71d045",
   "metadata": {},
   "source": [
    "# Single Inheritance"
   ]
  },
  {
   "cell_type": "code",
   "execution_count": 38,
   "id": "9d87ded6",
   "metadata": {},
   "outputs": [],
   "source": [
    "class C1:\n",
    "    def f1(self):\n",
    "        print('f1 called in C1')\n",
    "        \n",
    "class C2(C1):\n",
    "    def f2(self):\n",
    "        print('f2 called from c2')"
   ]
  },
  {
   "cell_type": "code",
   "execution_count": 39,
   "id": "6acc431e",
   "metadata": {},
   "outputs": [
    {
     "name": "stdout",
     "output_type": "stream",
     "text": [
      "f2 called from c2\n",
      "f1 called in C1\n"
     ]
    }
   ],
   "source": [
    "obj=C2()\n",
    "obj.f2()#obj.f2(obj)\n",
    "obj.f1()#obj.f1(obj)"
   ]
  },
  {
   "cell_type": "markdown",
   "id": "28f2e077",
   "metadata": {},
   "source": [
    "# Multilevel Inheritance"
   ]
  },
  {
   "cell_type": "markdown",
   "id": "2fe6378e",
   "metadata": {},
   "source": [
    "# class X:\n",
    "    n1=10\n",
    "class Y(X):\n",
    "    n2=20\n",
    "class Z(Y):\n",
    "    n3=30\n",
    "    def f(self):\n",
    "        print(self.n1)\n",
    "        print(self.n2)\n",
    "        print(self.n3)"
   ]
  },
  {
   "cell_type": "code",
   "execution_count": 41,
   "id": "f58b0e0f",
   "metadata": {},
   "outputs": [
    {
     "name": "stdout",
     "output_type": "stream",
     "text": [
      "10\n",
      "20\n",
      "30\n"
     ]
    }
   ],
   "source": [
    "obj=Z()\n",
    "obj.f()"
   ]
  },
  {
   "cell_type": "markdown",
   "id": "c9739b31",
   "metadata": {},
   "source": [
    "# Multiple Inheritance"
   ]
  },
  {
   "cell_type": "code",
   "execution_count": 48,
   "id": "9998c003",
   "metadata": {},
   "outputs": [],
   "source": [
    "class P:\n",
    "    n1=10\n",
    "class Q:\n",
    "    n2=20\n",
    "class R(P,Q):\n",
    "    n3=30\n",
    "    def f1(self):\n",
    "        print(self.n1)\n",
    "        print(self.n2)\n",
    "        print(self.n3)"
   ]
  },
  {
   "cell_type": "code",
   "execution_count": 49,
   "id": "cf00e246",
   "metadata": {},
   "outputs": [
    {
     "name": "stdout",
     "output_type": "stream",
     "text": [
      "10\n",
      "20\n",
      "30\n"
     ]
    }
   ],
   "source": [
    "obj=R()\n",
    "obj.f1()"
   ]
  },
  {
   "cell_type": "code",
   "execution_count": null,
   "id": "75fce83c",
   "metadata": {},
   "outputs": [],
   "source": []
  },
  {
   "cell_type": "code",
   "execution_count": null,
   "id": "b7974037",
   "metadata": {},
   "outputs": [],
   "source": []
  },
  {
   "cell_type": "code",
   "execution_count": null,
   "id": "9bae7fa5",
   "metadata": {},
   "outputs": [],
   "source": []
  },
  {
   "cell_type": "code",
   "execution_count": null,
   "id": "5b17d825",
   "metadata": {},
   "outputs": [],
   "source": []
  },
  {
   "cell_type": "code",
   "execution_count": null,
   "id": "cbb927b7",
   "metadata": {},
   "outputs": [],
   "source": []
  },
  {
   "cell_type": "code",
   "execution_count": null,
   "id": "1f749218",
   "metadata": {},
   "outputs": [],
   "source": []
  },
  {
   "cell_type": "code",
   "execution_count": null,
   "id": "5b0241d1",
   "metadata": {},
   "outputs": [],
   "source": []
  },
  {
   "cell_type": "code",
   "execution_count": null,
   "id": "057ba507",
   "metadata": {},
   "outputs": [],
   "source": []
  },
  {
   "cell_type": "code",
   "execution_count": null,
   "id": "035e3ad9",
   "metadata": {},
   "outputs": [],
   "source": []
  }
 ],
 "metadata": {
  "kernelspec": {
   "display_name": "Python 3 (ipykernel)",
   "language": "python",
   "name": "python3"
  },
  "language_info": {
   "codemirror_mode": {
    "name": "ipython",
    "version": 3
   },
   "file_extension": ".py",
   "mimetype": "text/x-python",
   "name": "python",
   "nbconvert_exporter": "python",
   "pygments_lexer": "ipython3",
   "version": "3.10.1"
  }
 },
 "nbformat": 4,
 "nbformat_minor": 5
}
