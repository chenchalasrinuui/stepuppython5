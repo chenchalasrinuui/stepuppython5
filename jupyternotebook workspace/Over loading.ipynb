{
 "cells": [
  {
   "cell_type": "code",
   "execution_count": 1,
   "id": "646e5b55",
   "metadata": {},
   "outputs": [],
   "source": [
    "class A:\n",
    "    def f1(self,n1):\n",
    "        print('first f1')\n",
    "    def f1(self,n1,n2):\n",
    "        print('sec f1')\n",
    "    def f1(self,n1,n2,n3):\n",
    "        print('third f1')"
   ]
  },
  {
   "cell_type": "code",
   "execution_count": 2,
   "id": "2cd2eb06",
   "metadata": {},
   "outputs": [],
   "source": [
    "obj=A()"
   ]
  },
  {
   "cell_type": "code",
   "execution_count": 4,
   "id": "72011918",
   "metadata": {},
   "outputs": [
    {
     "name": "stdout",
     "output_type": "stream",
     "text": [
      "third f1\n"
     ]
    }
   ],
   "source": [
    "obj.f1(10,20,30)"
   ]
  },
  {
   "cell_type": "code",
   "execution_count": 20,
   "id": "cdbc9dbf",
   "metadata": {},
   "outputs": [],
   "source": [
    "class Arth:\n",
    "    def sum(self,n1=None,n2=None,n3=None):\n",
    "        if(n1!= None and n2!=None and n3 != None):\n",
    "            print(n1+n2+n3)\n",
    "        elif n1!=None and n2!=None:\n",
    "            print(n1+n2)\n",
    "       \n",
    "    "
   ]
  },
  {
   "cell_type": "code",
   "execution_count": 21,
   "id": "f9ac9584",
   "metadata": {},
   "outputs": [],
   "source": [
    "obj=Arth()"
   ]
  },
  {
   "cell_type": "code",
   "execution_count": 22,
   "id": "6cc9c80d",
   "metadata": {},
   "outputs": [
    {
     "name": "stdout",
     "output_type": "stream",
     "text": [
      "60\n"
     ]
    }
   ],
   "source": [
    "obj.sum(10,20,30)"
   ]
  },
  {
   "cell_type": "code",
   "execution_count": 23,
   "id": "44144022",
   "metadata": {},
   "outputs": [
    {
     "name": "stdout",
     "output_type": "stream",
     "text": [
      "30\n"
     ]
    }
   ],
   "source": [
    "obj.sum(10,20)"
   ]
  },
  {
   "cell_type": "code",
   "execution_count": null,
   "id": "431d6a96",
   "metadata": {},
   "outputs": [],
   "source": []
  }
 ],
 "metadata": {
  "kernelspec": {
   "display_name": "Python 3 (ipykernel)",
   "language": "python",
   "name": "python3"
  },
  "language_info": {
   "codemirror_mode": {
    "name": "ipython",
    "version": 3
   },
   "file_extension": ".py",
   "mimetype": "text/x-python",
   "name": "python",
   "nbconvert_exporter": "python",
   "pygments_lexer": "ipython3",
   "version": "3.10.1"
  }
 },
 "nbformat": 4,
 "nbformat_minor": 5
}
