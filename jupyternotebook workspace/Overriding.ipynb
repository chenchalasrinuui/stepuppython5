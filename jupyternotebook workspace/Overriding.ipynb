{
 "cells": [
  {
   "cell_type": "code",
   "execution_count": 7,
   "id": "2cf18e7d",
   "metadata": {},
   "outputs": [],
   "source": [
    "class Parent:\n",
    "    def property(self):\n",
    "        print('Parent property 10cr')\n",
    "        \n",
    "class Child(Parent):\n",
    "    def property(self):\n",
    "        print('Child property 100cr')"
   ]
  },
  {
   "cell_type": "code",
   "execution_count": 8,
   "id": "782ea811",
   "metadata": {},
   "outputs": [],
   "source": [
    "obj=Child()"
   ]
  },
  {
   "cell_type": "code",
   "execution_count": 9,
   "id": "ac213809",
   "metadata": {},
   "outputs": [
    {
     "name": "stdout",
     "output_type": "stream",
     "text": [
      "Child property 100cr\n"
     ]
    }
   ],
   "source": [
    "obj.property()"
   ]
  },
  {
   "cell_type": "code",
   "execution_count": null,
   "id": "be2b4077",
   "metadata": {},
   "outputs": [],
   "source": []
  }
 ],
 "metadata": {
  "kernelspec": {
   "display_name": "Python 3 (ipykernel)",
   "language": "python",
   "name": "python3"
  },
  "language_info": {
   "codemirror_mode": {
    "name": "ipython",
    "version": 3
   },
   "file_extension": ".py",
   "mimetype": "text/x-python",
   "name": "python",
   "nbconvert_exporter": "python",
   "pygments_lexer": "ipython3",
   "version": "3.10.1"
  }
 },
 "nbformat": 4,
 "nbformat_minor": 5
}
