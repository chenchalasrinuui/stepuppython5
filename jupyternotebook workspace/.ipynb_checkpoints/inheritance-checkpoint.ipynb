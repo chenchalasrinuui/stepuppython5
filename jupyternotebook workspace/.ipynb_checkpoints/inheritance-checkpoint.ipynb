{
 "cells": [
  {
   "cell_type": "code",
   "execution_count": 23,
   "id": "62593671",
   "metadata": {},
   "outputs": [],
   "source": [
    "class B:\n",
    "    #parent, super, base class\n",
    "    n2=20\n",
    "class A(B):\n",
    "    #child, sub, derived class\n",
    "    n1=10\n",
    "    def f1(self):\n",
    "        print(self.n1+self.n2)\n",
    "        "
   ]
  },
  {
   "cell_type": "code",
   "execution_count": 24,
   "id": "17a7060a",
   "metadata": {},
   "outputs": [],
   "source": [
    "obj=A()"
   ]
  },
  {
   "cell_type": "code",
   "execution_count": 25,
   "id": "27530e70",
   "metadata": {},
   "outputs": [
    {
     "name": "stdout",
     "output_type": "stream",
     "text": [
      "30\n"
     ]
    }
   ],
   "source": [
    "obj.f1()"
   ]
  },
  {
   "cell_type": "markdown",
   "id": "104b3d8f",
   "metadata": {},
   "source": [
    "# Single Inheritance"
   ]
  },
  {
   "cell_type": "code",
   "execution_count": 26,
   "id": "9684612f",
   "metadata": {},
   "outputs": [],
   "source": [
    "class C1:\n",
    "    def f1(self):\n",
    "        print('f1 called in C1')\n",
    "        \n",
    "class C2(C1):\n",
    "    def f2(self):\n",
    "        print('f2 called from c2')"
   ]
  },
  {
   "cell_type": "code",
   "execution_count": 27,
   "id": "1fbb9be7",
   "metadata": {},
   "outputs": [
    {
     "name": "stdout",
     "output_type": "stream",
     "text": [
      "f2 called from c2\n",
      "f1 called in C1\n"
     ]
    }
   ],
   "source": [
    "obj=C2()\n",
    "obj.f2()#obj.f2(obj)\n",
    "obj.f1()#obj.f1(obj)"
   ]
  },
  {
   "cell_type": "markdown",
   "id": "e5dcc258",
   "metadata": {},
   "source": [
    "# Multilevel Inheritance"
   ]
  },
  {
   "cell_type": "code",
   "execution_count": 28,
   "id": "f27c59d6",
   "metadata": {},
   "outputs": [],
   "source": [
    "class X:\n",
    "    n1=10\n",
    "class Y(X):\n",
    "    n2=20\n",
    "class Z(Y):\n",
    "    n3=30\n",
    "    def f(self):\n",
    "        print(self.n1)\n",
    "        print(self.n2)\n",
    "        print(self.n3)"
   ]
  },
  {
   "cell_type": "code",
   "execution_count": 29,
   "id": "f728e649",
   "metadata": {},
   "outputs": [
    {
     "name": "stdout",
     "output_type": "stream",
     "text": [
      "20\n",
      "30\n"
     ]
    }
   ],
   "source": [
    "obj=Z()\n",
    "obj.f()"
   ]
  },
  {
   "cell_type": "code",
   "execution_count": null,
   "id": "3b872725",
   "metadata": {},
   "outputs": [],
   "source": []
  }
 ],
 "metadata": {
  "kernelspec": {
   "display_name": "Python 3 (ipykernel)",
   "language": "python",
   "name": "python3"
  },
  "language_info": {
   "codemirror_mode": {
    "name": "ipython",
    "version": 3
   },
   "file_extension": ".py",
   "mimetype": "text/x-python",
   "name": "python",
   "nbconvert_exporter": "python",
   "pygments_lexer": "ipython3",
   "version": "3.10.1"
  }
 },
 "nbformat": 4,
 "nbformat_minor": 5
}
