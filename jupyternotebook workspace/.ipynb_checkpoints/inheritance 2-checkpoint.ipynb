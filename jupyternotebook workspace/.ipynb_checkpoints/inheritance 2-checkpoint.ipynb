{
 "cells": [
  {
   "cell_type": "code",
   "execution_count": 5,
   "id": "db148adf",
   "metadata": {},
   "outputs": [
    {
     "name": "stdout",
     "output_type": "stream",
     "text": [
      "20\n",
      "10\n"
     ]
    }
   ],
   "source": [
    "class A:\n",
    "    n1=10\n",
    "class B(A):\n",
    "    n1=20\n",
    "\n",
    "obj=B()\n",
    "print(obj.n1)\n",
    "obj1=A()\n",
    "print(obj1.n1)"
   ]
  },
  {
   "cell_type": "code",
   "execution_count": 20,
   "id": "b575fa9c",
   "metadata": {},
   "outputs": [
    {
     "name": "stdout",
     "output_type": "stream",
     "text": [
      "f1 in X\n"
     ]
    }
   ],
   "source": [
    "class X:\n",
    "    def f1(self):\n",
    "        print('f1 in X')\n",
    "class Y:\n",
    "    def f2(self):\n",
    "        print('f1 in Y')\n",
    "class Z(Y,X):#Method Resolution Order\n",
    "    pass\n",
    "obj=Z()\n",
    "obj.f1()"
   ]
  },
  {
   "cell_type": "code",
   "execution_count": 30,
   "id": "7d47d572",
   "metadata": {},
   "outputs": [
    {
     "name": "stdout",
     "output_type": "stream",
     "text": [
      "<__main__.Q object at 0x000001CB38987970>\n",
      "P class con\n",
      "Q class con\n"
     ]
    }
   ],
   "source": [
    "class P:\n",
    "    def __init__(self):\n",
    "        print(self)\n",
    "        print('P class con')\n",
    "class Q(P):\n",
    "    def __init__(self):\n",
    "        P.__init__(self)\n",
    "        #super().__init__()\n",
    "        print('Q class con')\n",
    "\n",
    "obj=Q()"
   ]
  },
  {
   "cell_type": "code",
   "execution_count": null,
   "id": "c58a6cf1",
   "metadata": {},
   "outputs": [],
   "source": []
  }
 ],
 "metadata": {
  "kernelspec": {
   "display_name": "Python 3 (ipykernel)",
   "language": "python",
   "name": "python3"
  },
  "language_info": {
   "codemirror_mode": {
    "name": "ipython",
    "version": 3
   },
   "file_extension": ".py",
   "mimetype": "text/x-python",
   "name": "python",
   "nbconvert_exporter": "python",
   "pygments_lexer": "ipython3",
   "version": "3.10.1"
  }
 },
 "nbformat": 4,
 "nbformat_minor": 5
}
