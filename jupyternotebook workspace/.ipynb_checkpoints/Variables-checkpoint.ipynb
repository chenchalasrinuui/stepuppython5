{
 "cells": [
  {
   "cell_type": "code",
   "execution_count": 1,
   "id": "a9dd258d",
   "metadata": {},
   "outputs": [],
   "source": [
    "name='Sachin'"
   ]
  },
  {
   "cell_type": "code",
   "execution_count": 2,
   "id": "86e60c44",
   "metadata": {},
   "outputs": [
    {
     "data": {
      "text/plain": [
       "str"
      ]
     },
     "execution_count": 2,
     "metadata": {},
     "output_type": "execute_result"
    }
   ],
   "source": [
    "type(name)"
   ]
  },
  {
   "cell_type": "code",
   "execution_count": 7,
   "id": "30519800",
   "metadata": {},
   "outputs": [],
   "source": [
    "amount=100"
   ]
  },
  {
   "cell_type": "code",
   "execution_count": 8,
   "id": "a78fec71",
   "metadata": {},
   "outputs": [
    {
     "data": {
      "text/plain": [
       "int"
      ]
     },
     "execution_count": 8,
     "metadata": {},
     "output_type": "execute_result"
    }
   ],
   "source": [
    "type(amount)"
   ]
  },
  {
   "cell_type": "code",
   "execution_count": 10,
   "id": "609f3ac6",
   "metadata": {},
   "outputs": [],
   "source": [
    "isHePass=True"
   ]
  },
  {
   "cell_type": "code",
   "execution_count": 11,
   "id": "1f55b1ff",
   "metadata": {},
   "outputs": [
    {
     "data": {
      "text/plain": [
       "bool"
      ]
     },
     "execution_count": 11,
     "metadata": {},
     "output_type": "execute_result"
    }
   ],
   "source": [
    "type(isHePass)"
   ]
  },
  {
   "cell_type": "code",
   "execution_count": 12,
   "id": "0816efdd",
   "metadata": {},
   "outputs": [],
   "source": [
    "players1=['Sachin','Dhoni','Kohli']"
   ]
  },
  {
   "cell_type": "code",
   "execution_count": 13,
   "id": "27d27909",
   "metadata": {},
   "outputs": [
    {
     "data": {
      "text/plain": [
       "list"
      ]
     },
     "execution_count": 13,
     "metadata": {},
     "output_type": "execute_result"
    }
   ],
   "source": [
    "type(players1)"
   ]
  },
  {
   "cell_type": "code",
   "execution_count": 16,
   "id": "779d6543",
   "metadata": {},
   "outputs": [],
   "source": [
    "players2=('Sachin','Dhoni','Kohli')"
   ]
  },
  {
   "cell_type": "code",
   "execution_count": 17,
   "id": "fae0bd93",
   "metadata": {},
   "outputs": [
    {
     "data": {
      "text/plain": [
       "tuple"
      ]
     },
     "execution_count": 17,
     "metadata": {},
     "output_type": "execute_result"
    }
   ],
   "source": [
    "type(players2)"
   ]
  },
  {
   "cell_type": "code",
   "execution_count": 18,
   "id": "894d47ab",
   "metadata": {},
   "outputs": [],
   "source": [
    "players3={'Sachin','Dhoni','Kohli'}"
   ]
  },
  {
   "cell_type": "code",
   "execution_count": 19,
   "id": "dd2a8a32",
   "metadata": {},
   "outputs": [
    {
     "data": {
      "text/plain": [
       "set"
      ]
     },
     "execution_count": 19,
     "metadata": {},
     "output_type": "execute_result"
    }
   ],
   "source": [
    "type(players3)"
   ]
  },
  {
   "cell_type": "code",
   "execution_count": 21,
   "id": "3106e2f5",
   "metadata": {},
   "outputs": [],
   "source": [
    "sachinData={\n",
    "    \"name\":\"Sachin\",\n",
    "    \"runs\":20000,\n",
    "    \"loc\":\"Mumbai\"\n",
    "}"
   ]
  },
  {
   "cell_type": "code",
   "execution_count": 22,
   "id": "42463b75",
   "metadata": {},
   "outputs": [
    {
     "data": {
      "text/plain": [
       "{'name': 'Sachin', 'runs': 20000, 'loc': 'Mumbai'}"
      ]
     },
     "execution_count": 22,
     "metadata": {},
     "output_type": "execute_result"
    }
   ],
   "source": [
    "sachinData"
   ]
  },
  {
   "cell_type": "code",
   "execution_count": 26,
   "id": "08aa7591",
   "metadata": {},
   "outputs": [
    {
     "data": {
      "text/plain": [
       "dict"
      ]
     },
     "execution_count": 26,
     "metadata": {},
     "output_type": "execute_result"
    }
   ],
   "source": [
    "type(sachinData)"
   ]
  },
  {
   "cell_type": "code",
   "execution_count": 27,
   "id": "2186808d",
   "metadata": {},
   "outputs": [],
   "source": [
    "numbers=range(11,100)"
   ]
  },
  {
   "cell_type": "code",
   "execution_count": 30,
   "id": "654dedc7",
   "metadata": {},
   "outputs": [
    {
     "data": {
      "text/plain": [
       "range"
      ]
     },
     "execution_count": 30,
     "metadata": {},
     "output_type": "execute_result"
    }
   ],
   "source": [
    "type(numbers)"
   ]
  },
  {
   "cell_type": "code",
   "execution_count": null,
   "id": "21ae2c0b",
   "metadata": {},
   "outputs": [],
   "source": []
  }
 ],
 "metadata": {
  "kernelspec": {
   "display_name": "Python 3 (ipykernel)",
   "language": "python",
   "name": "python3"
  },
  "language_info": {
   "codemirror_mode": {
    "name": "ipython",
    "version": 3
   },
   "file_extension": ".py",
   "mimetype": "text/x-python",
   "name": "python",
   "nbconvert_exporter": "python",
   "pygments_lexer": "ipython3",
   "version": "3.10.1"
  }
 },
 "nbformat": 4,
 "nbformat_minor": 5
}
