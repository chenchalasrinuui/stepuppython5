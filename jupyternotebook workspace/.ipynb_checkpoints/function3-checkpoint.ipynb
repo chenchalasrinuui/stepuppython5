{
 "cells": [
  {
   "cell_type": "markdown",
   "id": "acdcbcd2",
   "metadata": {},
   "source": [
    "# Functions with Retrun type"
   ]
  },
  {
   "cell_type": "code",
   "execution_count": null,
   "id": "7cdb2466",
   "metadata": {},
   "outputs": [],
   "source": [
    "def f1():\n",
    "    print('1k lines of code')\n",
    "    print(10)"
   ]
  }
 ],
 "metadata": {
  "kernelspec": {
   "display_name": "Python 3 (ipykernel)",
   "language": "python",
   "name": "python3"
  },
  "language_info": {
   "codemirror_mode": {
    "name": "ipython",
    "version": 3
   },
   "file_extension": ".py",
   "mimetype": "text/x-python",
   "name": "python",
   "nbconvert_exporter": "python",
   "pygments_lexer": "ipython3",
   "version": "3.10.1"
  }
 },
 "nbformat": 4,
 "nbformat_minor": 5
}
