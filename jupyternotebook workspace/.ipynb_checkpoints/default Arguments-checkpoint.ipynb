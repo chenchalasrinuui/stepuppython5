{
 "cells": [
  {
   "cell_type": "code",
   "execution_count": 1,
   "id": "be24f649",
   "metadata": {},
   "outputs": [],
   "source": [
    "def getPrice(cost,noi):\n",
    "    print(cost*noi)"
   ]
  },
  {
   "cell_type": "code",
   "execution_count": 2,
   "id": "5995657c",
   "metadata": {},
   "outputs": [
    {
     "name": "stdout",
     "output_type": "stream",
     "text": [
      "2000\n"
     ]
    }
   ],
   "source": [
    "getPrice(20,100)"
   ]
  },
  {
   "cell_type": "code",
   "execution_count": 3,
   "id": "79dd1101",
   "metadata": {},
   "outputs": [
    {
     "name": "stdout",
     "output_type": "stream",
     "text": [
      "2000\n"
     ]
    }
   ],
   "source": [
    "getPrice(cost=20,noi=100)"
   ]
  },
  {
   "cell_type": "code",
   "execution_count": 4,
   "id": "f46a0078",
   "metadata": {},
   "outputs": [
    {
     "name": "stdout",
     "output_type": "stream",
     "text": [
      "2000\n"
     ]
    }
   ],
   "source": [
    "getPrice(noi=100,cost=20)"
   ]
  },
  {
   "cell_type": "code",
   "execution_count": 5,
   "id": "7d2241fb",
   "metadata": {},
   "outputs": [
    {
     "name": "stdout",
     "output_type": "stream",
     "text": [
      "2000\n"
     ]
    }
   ],
   "source": [
    "getPrice(20,noi=100)"
   ]
  },
  {
   "cell_type": "code",
   "execution_count": 6,
   "id": "d2067759",
   "metadata": {},
   "outputs": [
    {
     "ename": "SyntaxError",
     "evalue": "positional argument follows keyword argument (Temp/ipykernel_8360/3264540988.py, line 1)",
     "output_type": "error",
     "traceback": [
      "\u001b[1;36m  File \u001b[1;32m\"C:\\Users\\srinivas\\AppData\\Local\\Temp/ipykernel_8360/3264540988.py\"\u001b[1;36m, line \u001b[1;32m1\u001b[0m\n\u001b[1;33m    getPrice(noi=100,20)\u001b[0m\n\u001b[1;37m                       ^\u001b[0m\n\u001b[1;31mSyntaxError\u001b[0m\u001b[1;31m:\u001b[0m positional argument follows keyword argument\n"
     ]
    }
   ],
   "source": [
    "getPrice(noi=100,20)"
   ]
  },
  {
   "cell_type": "code",
   "execution_count": 7,
   "id": "b855cb25",
   "metadata": {},
   "outputs": [
    {
     "ename": "SyntaxError",
     "evalue": "non-default argument follows default argument (Temp/ipykernel_8360/3964344887.py, line 1)",
     "output_type": "error",
     "traceback": [
      "\u001b[1;36m  File \u001b[1;32m\"C:\\Users\\srinivas\\AppData\\Local\\Temp/ipykernel_8360/3964344887.py\"\u001b[1;36m, line \u001b[1;32m1\u001b[0m\n\u001b[1;33m    def getItemPrice(cost=20,noi):\u001b[0m\n\u001b[1;37m                             ^\u001b[0m\n\u001b[1;31mSyntaxError\u001b[0m\u001b[1;31m:\u001b[0m non-default argument follows default argument\n"
     ]
    }
   ],
   "source": [
    "def getItemPrice(cost=20,noi):\n",
    "    print(cost*noi)"
   ]
  },
  {
   "cell_type": "code",
   "execution_count": 8,
   "id": "db6f3736",
   "metadata": {},
   "outputs": [],
   "source": [
    "def getItemPrice(noi,cost=20):\n",
    "    print(cost*noi)"
   ]
  },
  {
   "cell_type": "code",
   "execution_count": 9,
   "id": "ed076ee3",
   "metadata": {},
   "outputs": [
    {
     "name": "stdout",
     "output_type": "stream",
     "text": [
      "4000\n"
     ]
    }
   ],
   "source": [
    "getItemPrice(200)"
   ]
  },
  {
   "cell_type": "code",
   "execution_count": 10,
   "id": "34e1f96e",
   "metadata": {},
   "outputs": [
    {
     "name": "stdout",
     "output_type": "stream",
     "text": [
      "8000\n"
     ]
    }
   ],
   "source": [
    "getItemPrice(200,40)"
   ]
  },
  {
   "cell_type": "code",
   "execution_count": 11,
   "id": "4319dda2",
   "metadata": {},
   "outputs": [
    {
     "name": "stdout",
     "output_type": "stream",
     "text": [
      "4000\n"
     ]
    }
   ],
   "source": [
    "getItemPrice(200)"
   ]
  },
  {
   "cell_type": "code",
   "execution_count": null,
   "id": "21a3599f",
   "metadata": {},
   "outputs": [],
   "source": []
  }
 ],
 "metadata": {
  "kernelspec": {
   "display_name": "Python 3 (ipykernel)",
   "language": "python",
   "name": "python3"
  },
  "language_info": {
   "codemirror_mode": {
    "name": "ipython",
    "version": 3
   },
   "file_extension": ".py",
   "mimetype": "text/x-python",
   "name": "python",
   "nbconvert_exporter": "python",
   "pygments_lexer": "ipython3",
   "version": "3.10.1"
  }
 },
 "nbformat": 4,
 "nbformat_minor": 5
}
