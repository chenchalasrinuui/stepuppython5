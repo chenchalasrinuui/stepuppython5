{
 "cells": [
  {
   "cell_type": "code",
   "execution_count": 7,
   "id": "9158a0fc",
   "metadata": {},
   "outputs": [],
   "source": [
    "players={'sachin','dhoni','kohli'} # players=set()"
   ]
  },
  {
   "cell_type": "code",
   "execution_count": 8,
   "id": "c0963db5",
   "metadata": {},
   "outputs": [
    {
     "name": "stdout",
     "output_type": "stream",
     "text": [
      "<class 'set'>\n"
     ]
    }
   ],
   "source": [
    "print(type(players))"
   ]
  },
  {
   "cell_type": "code",
   "execution_count": 9,
   "id": "768a63d5",
   "metadata": {
    "scrolled": false
   },
   "outputs": [
    {
     "data": {
      "text/plain": [
       "['__and__',\n",
       " '__class__',\n",
       " '__class_getitem__',\n",
       " '__contains__',\n",
       " '__delattr__',\n",
       " '__dir__',\n",
       " '__doc__',\n",
       " '__eq__',\n",
       " '__format__',\n",
       " '__ge__',\n",
       " '__getattribute__',\n",
       " '__gt__',\n",
       " '__hash__',\n",
       " '__iand__',\n",
       " '__init__',\n",
       " '__init_subclass__',\n",
       " '__ior__',\n",
       " '__isub__',\n",
       " '__iter__',\n",
       " '__ixor__',\n",
       " '__le__',\n",
       " '__len__',\n",
       " '__lt__',\n",
       " '__ne__',\n",
       " '__new__',\n",
       " '__or__',\n",
       " '__rand__',\n",
       " '__reduce__',\n",
       " '__reduce_ex__',\n",
       " '__repr__',\n",
       " '__ror__',\n",
       " '__rsub__',\n",
       " '__rxor__',\n",
       " '__setattr__',\n",
       " '__sizeof__',\n",
       " '__str__',\n",
       " '__sub__',\n",
       " '__subclasshook__',\n",
       " '__xor__',\n",
       " 'add',\n",
       " 'clear',\n",
       " 'copy',\n",
       " 'difference',\n",
       " 'difference_update',\n",
       " 'discard',\n",
       " 'intersection',\n",
       " 'intersection_update',\n",
       " 'isdisjoint',\n",
       " 'issubset',\n",
       " 'issuperset',\n",
       " 'pop',\n",
       " 'remove',\n",
       " 'symmetric_difference',\n",
       " 'symmetric_difference_update',\n",
       " 'union',\n",
       " 'update']"
      ]
     },
     "execution_count": 9,
     "metadata": {},
     "output_type": "execute_result"
    }
   ],
   "source": [
    "dir(players)"
   ]
  },
  {
   "cell_type": "code",
   "execution_count": 10,
   "id": "f7e8f6cb",
   "metadata": {},
   "outputs": [
    {
     "data": {
      "text/plain": [
       "{'dhoni', 'kohli', 'sachin'}"
      ]
     },
     "execution_count": 10,
     "metadata": {},
     "output_type": "execute_result"
    }
   ],
   "source": [
    "players"
   ]
  },
  {
   "cell_type": "code",
   "execution_count": 11,
   "id": "a779b61c",
   "metadata": {},
   "outputs": [
    {
     "data": {
      "text/plain": [
       "{'dhoni', 'kohli', 'sachin'}"
      ]
     },
     "execution_count": 11,
     "metadata": {},
     "output_type": "execute_result"
    }
   ],
   "source": [
    "players"
   ]
  },
  {
   "cell_type": "code",
   "execution_count": 13,
   "id": "1ea84a66",
   "metadata": {},
   "outputs": [
    {
     "name": "stdout",
     "output_type": "stream",
     "text": [
      "kohli\n",
      "sachin\n",
      "dhoni\n"
     ]
    }
   ],
   "source": [
    "for val in players:\n",
    "    print(val)"
   ]
  },
  {
   "cell_type": "code",
   "execution_count": 14,
   "id": "98b2e014",
   "metadata": {},
   "outputs": [
    {
     "data": {
      "text/plain": [
       "{'dhoni', 'kohli', 'sachin'}"
      ]
     },
     "execution_count": 14,
     "metadata": {},
     "output_type": "execute_result"
    }
   ],
   "source": [
    "players"
   ]
  },
  {
   "cell_type": "code",
   "execution_count": 15,
   "id": "a60aea2f",
   "metadata": {},
   "outputs": [],
   "source": [
    "players.add('uv')"
   ]
  },
  {
   "cell_type": "code",
   "execution_count": 16,
   "id": "60d571a4",
   "metadata": {},
   "outputs": [
    {
     "data": {
      "text/plain": [
       "{'dhoni', 'kohli', 'sachin', 'uv'}"
      ]
     },
     "execution_count": 16,
     "metadata": {},
     "output_type": "execute_result"
    }
   ],
   "source": [
    "players"
   ]
  },
  {
   "cell_type": "code",
   "execution_count": 17,
   "id": "39099f35",
   "metadata": {},
   "outputs": [
    {
     "data": {
      "text/plain": [
       "{'dhoni', 'kohli', 'sachin', 'uv'}"
      ]
     },
     "execution_count": 17,
     "metadata": {},
     "output_type": "execute_result"
    }
   ],
   "source": [
    "players"
   ]
  },
  {
   "cell_type": "code",
   "execution_count": 18,
   "id": "7896a696",
   "metadata": {},
   "outputs": [],
   "source": [
    "players=['sachin','sachin','dhoni']"
   ]
  },
  {
   "cell_type": "code",
   "execution_count": 19,
   "id": "67b36442",
   "metadata": {},
   "outputs": [
    {
     "data": {
      "text/plain": [
       "['sachin', 'sachin', 'dhoni']"
      ]
     },
     "execution_count": 19,
     "metadata": {},
     "output_type": "execute_result"
    }
   ],
   "source": [
    "players"
   ]
  },
  {
   "cell_type": "code",
   "execution_count": 20,
   "id": "2ee1479c",
   "metadata": {},
   "outputs": [],
   "source": [
    "players=('sachin','sachin','dhoni')"
   ]
  },
  {
   "cell_type": "code",
   "execution_count": 21,
   "id": "0fb1ee34",
   "metadata": {},
   "outputs": [
    {
     "data": {
      "text/plain": [
       "('sachin', 'sachin', 'dhoni')"
      ]
     },
     "execution_count": 21,
     "metadata": {},
     "output_type": "execute_result"
    }
   ],
   "source": [
    "players"
   ]
  },
  {
   "cell_type": "code",
   "execution_count": 22,
   "id": "60010fb8",
   "metadata": {},
   "outputs": [],
   "source": [
    "players={'sachin','sachin','dhoni'}"
   ]
  },
  {
   "cell_type": "code",
   "execution_count": 23,
   "id": "46e0ebcd",
   "metadata": {},
   "outputs": [
    {
     "data": {
      "text/plain": [
       "{'dhoni', 'sachin'}"
      ]
     },
     "execution_count": 23,
     "metadata": {},
     "output_type": "execute_result"
    }
   ],
   "source": [
    "players"
   ]
  },
  {
   "cell_type": "code",
   "execution_count": 24,
   "id": "e17fce44",
   "metadata": {},
   "outputs": [],
   "source": [
    "data1={'d','d','a','a'}"
   ]
  },
  {
   "cell_type": "code",
   "execution_count": 25,
   "id": "e4df1345",
   "metadata": {},
   "outputs": [
    {
     "data": {
      "text/plain": [
       "{'a', 'd'}"
      ]
     },
     "execution_count": 25,
     "metadata": {},
     "output_type": "execute_result"
    }
   ],
   "source": [
    "data1"
   ]
  },
  {
   "cell_type": "code",
   "execution_count": 26,
   "id": "0648daea",
   "metadata": {},
   "outputs": [],
   "source": [
    "data1.clear()"
   ]
  },
  {
   "cell_type": "code",
   "execution_count": 27,
   "id": "fc7b5d42",
   "metadata": {},
   "outputs": [
    {
     "data": {
      "text/plain": [
       "set()"
      ]
     },
     "execution_count": 27,
     "metadata": {},
     "output_type": "execute_result"
    }
   ],
   "source": [
    "data1"
   ]
  },
  {
   "cell_type": "code",
   "execution_count": 28,
   "id": "d90fb0af",
   "metadata": {},
   "outputs": [],
   "source": [
    "data1=players.copy()"
   ]
  },
  {
   "cell_type": "code",
   "execution_count": 29,
   "id": "64e165d7",
   "metadata": {},
   "outputs": [
    {
     "data": {
      "text/plain": [
       "{'dhoni', 'sachin'}"
      ]
     },
     "execution_count": 29,
     "metadata": {},
     "output_type": "execute_result"
    }
   ],
   "source": [
    "data1"
   ]
  },
  {
   "cell_type": "code",
   "execution_count": 30,
   "id": "3151a1f9",
   "metadata": {},
   "outputs": [],
   "source": [
    "s1={1,2,3}\n",
    "s2={2,4,5,6}"
   ]
  },
  {
   "cell_type": "code",
   "execution_count": 31,
   "id": "b922b6c5",
   "metadata": {},
   "outputs": [
    {
     "data": {
      "text/plain": [
       "{4, 5, 6}"
      ]
     },
     "execution_count": 31,
     "metadata": {},
     "output_type": "execute_result"
    }
   ],
   "source": [
    "s2.difference(s1)"
   ]
  },
  {
   "cell_type": "code",
   "execution_count": 32,
   "id": "56c96f97",
   "metadata": {},
   "outputs": [
    {
     "data": {
      "text/plain": [
       "{1, 3}"
      ]
     },
     "execution_count": 32,
     "metadata": {},
     "output_type": "execute_result"
    }
   ],
   "source": [
    "s1.difference(s2)"
   ]
  },
  {
   "cell_type": "code",
   "execution_count": 33,
   "id": "2b49ead9",
   "metadata": {},
   "outputs": [],
   "source": [
    "s1.difference_update(s2)"
   ]
  },
  {
   "cell_type": "code",
   "execution_count": 34,
   "id": "bf5e1a32",
   "metadata": {},
   "outputs": [
    {
     "data": {
      "text/plain": [
       "{1, 3}"
      ]
     },
     "execution_count": 34,
     "metadata": {},
     "output_type": "execute_result"
    }
   ],
   "source": [
    "s1"
   ]
  },
  {
   "cell_type": "code",
   "execution_count": 35,
   "id": "ad210470",
   "metadata": {},
   "outputs": [
    {
     "data": {
      "text/plain": [
       "{2, 4, 5, 6}"
      ]
     },
     "execution_count": 35,
     "metadata": {},
     "output_type": "execute_result"
    }
   ],
   "source": [
    "s2"
   ]
  },
  {
   "cell_type": "code",
   "execution_count": 36,
   "id": "398a51fd",
   "metadata": {},
   "outputs": [
    {
     "data": {
      "text/plain": [
       "{2, 4, 5, 6}"
      ]
     },
     "execution_count": 36,
     "metadata": {},
     "output_type": "execute_result"
    }
   ],
   "source": [
    "s2"
   ]
  },
  {
   "cell_type": "code",
   "execution_count": 37,
   "id": "90c110e3",
   "metadata": {},
   "outputs": [],
   "source": [
    "s2.discard(6)"
   ]
  },
  {
   "cell_type": "code",
   "execution_count": 38,
   "id": "3fa7a437",
   "metadata": {},
   "outputs": [
    {
     "data": {
      "text/plain": [
       "{2, 4, 5}"
      ]
     },
     "execution_count": 38,
     "metadata": {},
     "output_type": "execute_result"
    }
   ],
   "source": [
    "s2"
   ]
  },
  {
   "cell_type": "code",
   "execution_count": 39,
   "id": "820a56da",
   "metadata": {},
   "outputs": [],
   "source": [
    "s2.discard(0)"
   ]
  },
  {
   "cell_type": "code",
   "execution_count": 40,
   "id": "6794d5ce",
   "metadata": {},
   "outputs": [
    {
     "data": {
      "text/plain": [
       "{2, 4, 5}"
      ]
     },
     "execution_count": 40,
     "metadata": {},
     "output_type": "execute_result"
    }
   ],
   "source": [
    "s2"
   ]
  },
  {
   "cell_type": "code",
   "execution_count": 41,
   "id": "d4716883",
   "metadata": {},
   "outputs": [
    {
     "data": {
      "text/plain": [
       "{2, 4, 5}"
      ]
     },
     "execution_count": 41,
     "metadata": {},
     "output_type": "execute_result"
    }
   ],
   "source": [
    "s2"
   ]
  },
  {
   "cell_type": "code",
   "execution_count": 42,
   "id": "3a97045b",
   "metadata": {},
   "outputs": [
    {
     "data": {
      "text/plain": [
       "2"
      ]
     },
     "execution_count": 42,
     "metadata": {},
     "output_type": "execute_result"
    }
   ],
   "source": [
    "s2.pop()"
   ]
  },
  {
   "cell_type": "code",
   "execution_count": 43,
   "id": "eefab6f4",
   "metadata": {},
   "outputs": [
    {
     "data": {
      "text/plain": [
       "{4, 5}"
      ]
     },
     "execution_count": 43,
     "metadata": {},
     "output_type": "execute_result"
    }
   ],
   "source": [
    "s2"
   ]
  },
  {
   "cell_type": "code",
   "execution_count": 44,
   "id": "28c133fc",
   "metadata": {},
   "outputs": [
    {
     "data": {
      "text/plain": [
       "4"
      ]
     },
     "execution_count": 44,
     "metadata": {},
     "output_type": "execute_result"
    }
   ],
   "source": [
    "s2.pop()"
   ]
  },
  {
   "cell_type": "code",
   "execution_count": 45,
   "id": "381fd839",
   "metadata": {},
   "outputs": [
    {
     "data": {
      "text/plain": [
       "{5}"
      ]
     },
     "execution_count": 45,
     "metadata": {},
     "output_type": "execute_result"
    }
   ],
   "source": [
    "s2"
   ]
  },
  {
   "cell_type": "code",
   "execution_count": 46,
   "id": "74b38244",
   "metadata": {},
   "outputs": [],
   "source": [
    "s3={1,2,3,4,5}"
   ]
  },
  {
   "cell_type": "code",
   "execution_count": 48,
   "id": "5cad9e8b",
   "metadata": {},
   "outputs": [],
   "source": [
    "s3.discard(4)"
   ]
  },
  {
   "cell_type": "code",
   "execution_count": 49,
   "id": "1a02a9d4",
   "metadata": {},
   "outputs": [
    {
     "data": {
      "text/plain": [
       "{1, 2, 3, 5}"
      ]
     },
     "execution_count": 49,
     "metadata": {},
     "output_type": "execute_result"
    }
   ],
   "source": [
    "s3"
   ]
  },
  {
   "cell_type": "code",
   "execution_count": 50,
   "id": "071b2183",
   "metadata": {},
   "outputs": [],
   "source": [
    "s3.discard(33)"
   ]
  },
  {
   "cell_type": "code",
   "execution_count": 51,
   "id": "6a9a62df",
   "metadata": {},
   "outputs": [
    {
     "data": {
      "text/plain": [
       "{1, 2, 3, 5}"
      ]
     },
     "execution_count": 51,
     "metadata": {},
     "output_type": "execute_result"
    }
   ],
   "source": [
    "s3"
   ]
  },
  {
   "cell_type": "code",
   "execution_count": 52,
   "id": "ae062c1e",
   "metadata": {},
   "outputs": [],
   "source": [
    "s3.remove(2)"
   ]
  },
  {
   "cell_type": "code",
   "execution_count": 53,
   "id": "12ba7ca8",
   "metadata": {},
   "outputs": [
    {
     "data": {
      "text/plain": [
       "{1, 3, 5}"
      ]
     },
     "execution_count": 53,
     "metadata": {},
     "output_type": "execute_result"
    }
   ],
   "source": [
    "s3"
   ]
  },
  {
   "cell_type": "code",
   "execution_count": 54,
   "id": "030684d1",
   "metadata": {},
   "outputs": [
    {
     "ename": "KeyError",
     "evalue": "33",
     "output_type": "error",
     "traceback": [
      "\u001b[1;31m---------------------------------------------------------------------------\u001b[0m",
      "\u001b[1;31mKeyError\u001b[0m                                  Traceback (most recent call last)",
      "\u001b[1;32m~\\AppData\\Local\\Temp/ipykernel_28228/2142907297.py\u001b[0m in \u001b[0;36m<module>\u001b[1;34m\u001b[0m\n\u001b[1;32m----> 1\u001b[1;33m \u001b[0ms3\u001b[0m\u001b[1;33m.\u001b[0m\u001b[0mremove\u001b[0m\u001b[1;33m(\u001b[0m\u001b[1;36m33\u001b[0m\u001b[1;33m)\u001b[0m\u001b[1;33m\u001b[0m\u001b[1;33m\u001b[0m\u001b[0m\n\u001b[0m",
      "\u001b[1;31mKeyError\u001b[0m: 33"
     ]
    }
   ],
   "source": [
    "s3.remove(33)"
   ]
  },
  {
   "cell_type": "code",
   "execution_count": 55,
   "id": "893e064c",
   "metadata": {},
   "outputs": [
    {
     "data": {
      "text/plain": [
       "{1, 3, 5}"
      ]
     },
     "execution_count": 55,
     "metadata": {},
     "output_type": "execute_result"
    }
   ],
   "source": [
    "s3"
   ]
  },
  {
   "cell_type": "code",
   "execution_count": 56,
   "id": "05535033",
   "metadata": {},
   "outputs": [
    {
     "data": {
      "text/plain": [
       "1"
      ]
     },
     "execution_count": 56,
     "metadata": {},
     "output_type": "execute_result"
    }
   ],
   "source": [
    "s3.pop()"
   ]
  },
  {
   "cell_type": "code",
   "execution_count": 58,
   "id": "ab2bcff1",
   "metadata": {},
   "outputs": [
    {
     "data": {
      "text/plain": [
       "3"
      ]
     },
     "execution_count": 58,
     "metadata": {},
     "output_type": "execute_result"
    }
   ],
   "source": [
    "s3.pop()"
   ]
  },
  {
   "cell_type": "code",
   "execution_count": 59,
   "id": "4c08b84c",
   "metadata": {},
   "outputs": [
    {
     "data": {
      "text/plain": [
       "{5}"
      ]
     },
     "execution_count": 59,
     "metadata": {},
     "output_type": "execute_result"
    }
   ],
   "source": [
    "s3"
   ]
  },
  {
   "cell_type": "code",
   "execution_count": 60,
   "id": "03aa7bfb",
   "metadata": {},
   "outputs": [
    {
     "data": {
      "text/plain": [
       "{3}"
      ]
     },
     "execution_count": 60,
     "metadata": {},
     "output_type": "execute_result"
    }
   ],
   "source": [
    "s4={1,2,3}\n",
    "s5={3,4,5}\n",
    "s4.intersection(s5)"
   ]
  },
  {
   "cell_type": "code",
   "execution_count": 61,
   "id": "7e01e212",
   "metadata": {},
   "outputs": [
    {
     "data": {
      "text/plain": [
       "{1, 2, 3}"
      ]
     },
     "execution_count": 61,
     "metadata": {},
     "output_type": "execute_result"
    }
   ],
   "source": [
    "s4"
   ]
  },
  {
   "cell_type": "code",
   "execution_count": 62,
   "id": "26531cfb",
   "metadata": {},
   "outputs": [
    {
     "data": {
      "text/plain": [
       "{3, 4, 5}"
      ]
     },
     "execution_count": 62,
     "metadata": {},
     "output_type": "execute_result"
    }
   ],
   "source": [
    "s5"
   ]
  },
  {
   "cell_type": "code",
   "execution_count": 63,
   "id": "c3d34130",
   "metadata": {},
   "outputs": [],
   "source": [
    "s4.intersection_update(s5)"
   ]
  },
  {
   "cell_type": "code",
   "execution_count": 64,
   "id": "e69d5138",
   "metadata": {},
   "outputs": [
    {
     "data": {
      "text/plain": [
       "{3}"
      ]
     },
     "execution_count": 64,
     "metadata": {},
     "output_type": "execute_result"
    }
   ],
   "source": [
    "s4"
   ]
  },
  {
   "cell_type": "code",
   "execution_count": 65,
   "id": "f4299a79",
   "metadata": {},
   "outputs": [
    {
     "data": {
      "text/plain": [
       "{3, 4, 5}"
      ]
     },
     "execution_count": 65,
     "metadata": {},
     "output_type": "execute_result"
    }
   ],
   "source": [
    "s5"
   ]
  },
  {
   "cell_type": "code",
   "execution_count": 79,
   "id": "5d980482",
   "metadata": {},
   "outputs": [],
   "source": [
    "s6={11,12,13}\n",
    "s7={14,15,16,11,12,13}"
   ]
  },
  {
   "cell_type": "code",
   "execution_count": 80,
   "id": "83c07a4a",
   "metadata": {},
   "outputs": [
    {
     "data": {
      "text/plain": [
       "False"
      ]
     },
     "execution_count": 80,
     "metadata": {},
     "output_type": "execute_result"
    }
   ],
   "source": [
    "s6.isdisjoint(s7)"
   ]
  },
  {
   "cell_type": "code",
   "execution_count": 81,
   "id": "cd8faee1",
   "metadata": {},
   "outputs": [
    {
     "data": {
      "text/plain": [
       "True"
      ]
     },
     "execution_count": 81,
     "metadata": {},
     "output_type": "execute_result"
    }
   ],
   "source": [
    "s6.issubset(s7)"
   ]
  },
  {
   "cell_type": "code",
   "execution_count": 82,
   "id": "56ad67f8",
   "metadata": {},
   "outputs": [
    {
     "data": {
      "text/plain": [
       "False"
      ]
     },
     "execution_count": 82,
     "metadata": {},
     "output_type": "execute_result"
    }
   ],
   "source": [
    "s6.issuperset(s7)"
   ]
  },
  {
   "cell_type": "code",
   "execution_count": 84,
   "id": "65cc5159",
   "metadata": {},
   "outputs": [
    {
     "data": {
      "text/plain": [
       "True"
      ]
     },
     "execution_count": 84,
     "metadata": {},
     "output_type": "execute_result"
    }
   ],
   "source": [
    "s7.issuperset(s6)"
   ]
  },
  {
   "cell_type": "code",
   "execution_count": 85,
   "id": "e93be6d5",
   "metadata": {},
   "outputs": [
    {
     "data": {
      "text/plain": [
       "{11, 12, 13}"
      ]
     },
     "execution_count": 85,
     "metadata": {},
     "output_type": "execute_result"
    }
   ],
   "source": [
    "s6"
   ]
  },
  {
   "cell_type": "code",
   "execution_count": 86,
   "id": "e3b7ea3f",
   "metadata": {},
   "outputs": [
    {
     "data": {
      "text/plain": [
       "{11, 12, 13, 14, 15, 16}"
      ]
     },
     "execution_count": 86,
     "metadata": {},
     "output_type": "execute_result"
    }
   ],
   "source": [
    "s7"
   ]
  },
  {
   "cell_type": "code",
   "execution_count": 87,
   "id": "de795e7c",
   "metadata": {},
   "outputs": [
    {
     "data": {
      "text/plain": [
       "{11, 12, 13, 14, 15, 16}"
      ]
     },
     "execution_count": 87,
     "metadata": {},
     "output_type": "execute_result"
    }
   ],
   "source": [
    "s6.union(s7)"
   ]
  },
  {
   "cell_type": "code",
   "execution_count": 98,
   "id": "5fac7bfb",
   "metadata": {},
   "outputs": [],
   "source": [
    "s8={1,2,3,4,6}\n",
    "s9={4,5,6,11,22}"
   ]
  },
  {
   "cell_type": "code",
   "execution_count": 99,
   "id": "bbdd7059",
   "metadata": {},
   "outputs": [],
   "source": [
    "s8.update(s9)"
   ]
  },
  {
   "cell_type": "code",
   "execution_count": 100,
   "id": "b7df6743",
   "metadata": {},
   "outputs": [
    {
     "data": {
      "text/plain": [
       "{1, 2, 3, 4, 5, 6, 11, 22}"
      ]
     },
     "execution_count": 100,
     "metadata": {},
     "output_type": "execute_result"
    }
   ],
   "source": [
    "s8"
   ]
  },
  {
   "cell_type": "code",
   "execution_count": 101,
   "id": "c70f7b46",
   "metadata": {},
   "outputs": [
    {
     "data": {
      "text/plain": [
       "{4, 5, 6, 11, 22}"
      ]
     },
     "execution_count": 101,
     "metadata": {},
     "output_type": "execute_result"
    }
   ],
   "source": [
    "s9"
   ]
  },
  {
   "cell_type": "code",
   "execution_count": 104,
   "id": "0d3dfbdf",
   "metadata": {},
   "outputs": [],
   "source": [
    "s10={1,2,3}\n",
    "s11={22,22,333,1,2}"
   ]
  },
  {
   "cell_type": "code",
   "execution_count": 105,
   "id": "e7bb8a95",
   "metadata": {},
   "outputs": [
    {
     "data": {
      "text/plain": [
       "{3, 22, 333}"
      ]
     },
     "execution_count": 105,
     "metadata": {},
     "output_type": "execute_result"
    }
   ],
   "source": [
    "s10.symmetric_difference(s11)"
   ]
  },
  {
   "cell_type": "code",
   "execution_count": 106,
   "id": "75409447",
   "metadata": {},
   "outputs": [
    {
     "data": {
      "text/plain": [
       "{3, 22, 333}"
      ]
     },
     "execution_count": 106,
     "metadata": {},
     "output_type": "execute_result"
    }
   ],
   "source": [
    "s11.symmetric_difference(s10)"
   ]
  },
  {
   "cell_type": "code",
   "execution_count": 107,
   "id": "230fef77",
   "metadata": {},
   "outputs": [
    {
     "data": {
      "text/plain": [
       "{1, 2, 3}"
      ]
     },
     "execution_count": 107,
     "metadata": {},
     "output_type": "execute_result"
    }
   ],
   "source": [
    "s10"
   ]
  },
  {
   "cell_type": "code",
   "execution_count": 108,
   "id": "b166f89a",
   "metadata": {},
   "outputs": [],
   "source": [
    "s10.symmetric_difference_update(s11)"
   ]
  },
  {
   "cell_type": "code",
   "execution_count": 109,
   "id": "33314d9f",
   "metadata": {},
   "outputs": [
    {
     "data": {
      "text/plain": [
       "{3, 22, 333}"
      ]
     },
     "execution_count": 109,
     "metadata": {},
     "output_type": "execute_result"
    }
   ],
   "source": [
    "s10"
   ]
  },
  {
   "cell_type": "code",
   "execution_count": null,
   "id": "a4323e07",
   "metadata": {},
   "outputs": [],
   "source": []
  }
 ],
 "metadata": {
  "kernelspec": {
   "display_name": "Python 3 (ipykernel)",
   "language": "python",
   "name": "python3"
  },
  "language_info": {
   "codemirror_mode": {
    "name": "ipython",
    "version": 3
   },
   "file_extension": ".py",
   "mimetype": "text/x-python",
   "name": "python",
   "nbconvert_exporter": "python",
   "pygments_lexer": "ipython3",
   "version": "3.10.1"
  }
 },
 "nbformat": 4,
 "nbformat_minor": 5
}
