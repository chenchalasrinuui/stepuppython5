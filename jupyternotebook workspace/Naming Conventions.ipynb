{
 "cells": [
  {
   "cell_type": "code",
   "execution_count": 1,
   "id": "d26c9f78",
   "metadata": {},
   "outputs": [],
   "source": [
    "name='Sachin'"
   ]
  },
  {
   "cell_type": "code",
   "execution_count": 2,
   "id": "cd54d0bd",
   "metadata": {},
   "outputs": [],
   "source": [
    "Name='Dhoni'"
   ]
  },
  {
   "cell_type": "code",
   "execution_count": 3,
   "id": "d2dca47e",
   "metadata": {},
   "outputs": [
    {
     "data": {
      "text/plain": [
       "'Sachin'"
      ]
     },
     "execution_count": 3,
     "metadata": {},
     "output_type": "execute_result"
    }
   ],
   "source": [
    "name"
   ]
  },
  {
   "cell_type": "code",
   "execution_count": 4,
   "id": "22447e1a",
   "metadata": {},
   "outputs": [
    {
     "data": {
      "text/plain": [
       "'Dhoni'"
      ]
     },
     "execution_count": 4,
     "metadata": {},
     "output_type": "execute_result"
    }
   ],
   "source": [
    "Name"
   ]
  },
  {
   "cell_type": "code",
   "execution_count": 6,
   "id": "dd851c00",
   "metadata": {},
   "outputs": [],
   "source": [
    "name123='Kohli'"
   ]
  },
  {
   "cell_type": "code",
   "execution_count": 7,
   "id": "572421d6",
   "metadata": {},
   "outputs": [
    {
     "data": {
      "text/plain": [
       "'Kohli'"
      ]
     },
     "execution_count": 7,
     "metadata": {},
     "output_type": "execute_result"
    }
   ],
   "source": [
    "name123"
   ]
  },
  {
   "cell_type": "code",
   "execution_count": 8,
   "id": "26fa1612",
   "metadata": {},
   "outputs": [],
   "source": [
    "_name='UV'"
   ]
  },
  {
   "cell_type": "code",
   "execution_count": 9,
   "id": "f88d9ca6",
   "metadata": {},
   "outputs": [
    {
     "data": {
      "text/plain": [
       "'UV'"
      ]
     },
     "execution_count": 9,
     "metadata": {},
     "output_type": "execute_result"
    }
   ],
   "source": [
    "_name"
   ]
  },
  {
   "cell_type": "code",
   "execution_count": 11,
   "id": "d4ec4316",
   "metadata": {},
   "outputs": [
    {
     "ename": "SyntaxError",
     "evalue": "invalid syntax (Temp/ipykernel_30032/2903198956.py, line 1)",
     "output_type": "error",
     "traceback": [
      "\u001b[1;36m  File \u001b[1;32m\"C:\\Users\\srinivas\\AppData\\Local\\Temp/ipykernel_30032/2903198956.py\"\u001b[1;36m, line \u001b[1;32m1\u001b[0m\n\u001b[1;33m    name$='Panth'\u001b[0m\n\u001b[1;37m        ^\u001b[0m\n\u001b[1;31mSyntaxError\u001b[0m\u001b[1;31m:\u001b[0m invalid syntax\n"
     ]
    }
   ],
   "source": [
    "name$='Panth'"
   ]
  },
  {
   "cell_type": "code",
   "execution_count": 12,
   "id": "7d2788a8",
   "metadata": {},
   "outputs": [
    {
     "ename": "SyntaxError",
     "evalue": "expected ':' (Temp/ipykernel_30032/3859842117.py, line 1)",
     "output_type": "error",
     "traceback": [
      "\u001b[1;36m  File \u001b[1;32m\"C:\\Users\\srinivas\\AppData\\Local\\Temp/ipykernel_30032/3859842117.py\"\u001b[1;36m, line \u001b[1;32m1\u001b[0m\n\u001b[1;33m    try='Sachin'\u001b[0m\n\u001b[1;37m       ^\u001b[0m\n\u001b[1;31mSyntaxError\u001b[0m\u001b[1;31m:\u001b[0m expected ':'\n"
     ]
    }
   ],
   "source": [
    "try='Sachin'"
   ]
  },
  {
   "cell_type": "code",
   "execution_count": 13,
   "id": "03be234a",
   "metadata": {},
   "outputs": [
    {
     "data": {
      "text/plain": [
       "['False',\n",
       " 'None',\n",
       " 'True',\n",
       " 'and',\n",
       " 'as',\n",
       " 'assert',\n",
       " 'async',\n",
       " 'await',\n",
       " 'break',\n",
       " 'class',\n",
       " 'continue',\n",
       " 'def',\n",
       " 'del',\n",
       " 'elif',\n",
       " 'else',\n",
       " 'except',\n",
       " 'finally',\n",
       " 'for',\n",
       " 'from',\n",
       " 'global',\n",
       " 'if',\n",
       " 'import',\n",
       " 'in',\n",
       " 'is',\n",
       " 'lambda',\n",
       " 'nonlocal',\n",
       " 'not',\n",
       " 'or',\n",
       " 'pass',\n",
       " 'raise',\n",
       " 'return',\n",
       " 'try',\n",
       " 'while',\n",
       " 'with',\n",
       " 'yield']"
      ]
     },
     "execution_count": 13,
     "metadata": {},
     "output_type": "execute_result"
    }
   ],
   "source": [
    "import keyword\n",
    "keyword.kwlist"
   ]
  },
  {
   "cell_type": "code",
   "execution_count": 15,
   "id": "b6569217",
   "metadata": {},
   "outputs": [],
   "source": [
    "full_name='Sachin Ramesh Tendulkar'"
   ]
  },
  {
   "cell_type": "code",
   "execution_count": 16,
   "id": "a77f047a",
   "metadata": {},
   "outputs": [],
   "source": [
    "firstName='Sachin'"
   ]
  },
  {
   "cell_type": "code",
   "execution_count": null,
   "id": "53950f57",
   "metadata": {},
   "outputs": [],
   "source": []
  }
 ],
 "metadata": {
  "kernelspec": {
   "display_name": "Python 3 (ipykernel)",
   "language": "python",
   "name": "python3"
  },
  "language_info": {
   "codemirror_mode": {
    "name": "ipython",
    "version": 3
   },
   "file_extension": ".py",
   "mimetype": "text/x-python",
   "name": "python",
   "nbconvert_exporter": "python",
   "pygments_lexer": "ipython3",
   "version": "3.10.1"
  }
 },
 "nbformat": 4,
 "nbformat_minor": 5
}
