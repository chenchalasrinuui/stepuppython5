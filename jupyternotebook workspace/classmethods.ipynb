{
 "cells": [
  {
   "cell_type": "code",
   "execution_count": 46,
   "id": "0cf71734",
   "metadata": {},
   "outputs": [],
   "source": [
    "class A:\n",
    "    def f1(self):\n",
    "        print(self)\n",
    "        print('f1 called')\n",
    "    @staticmethod\n",
    "    def f2():\n",
    "        print('f2 called')\n",
    "    @classmethod\n",
    "    def f3(ClassName):\n",
    "        print(ClassName)\n",
    "        print('f3 called')\n",
    "        ClassName.f2()\n",
    "        o=ClassName()\n",
    "        o.f1()"
   ]
  },
  {
   "cell_type": "code",
   "execution_count": 47,
   "id": "e9b88771",
   "metadata": {},
   "outputs": [],
   "source": [
    "obj=A()"
   ]
  },
  {
   "cell_type": "code",
   "execution_count": 48,
   "id": "897d73c2",
   "metadata": {},
   "outputs": [
    {
     "name": "stdout",
     "output_type": "stream",
     "text": [
      "<class '__main__.A'>\n",
      "f3 called\n",
      "f2 called\n",
      "<__main__.A object at 0x000001FE4ECE4B80>\n",
      "f1 called\n"
     ]
    }
   ],
   "source": [
    "obj.f3() #obj.f3(A)"
   ]
  },
  {
   "cell_type": "code",
   "execution_count": 49,
   "id": "04170bb1",
   "metadata": {},
   "outputs": [
    {
     "name": "stdout",
     "output_type": "stream",
     "text": [
      "<class '__main__.A'>\n",
      "f3 called\n",
      "f2 called\n",
      "<__main__.A object at 0x000001FE4EC44340>\n",
      "f1 called\n"
     ]
    }
   ],
   "source": [
    "A.f3() #A.f3(A)"
   ]
  },
  {
   "cell_type": "code",
   "execution_count": null,
   "id": "86b8d35b",
   "metadata": {},
   "outputs": [],
   "source": []
  }
 ],
 "metadata": {
  "kernelspec": {
   "display_name": "Python 3 (ipykernel)",
   "language": "python",
   "name": "python3"
  },
  "language_info": {
   "codemirror_mode": {
    "name": "ipython",
    "version": 3
   },
   "file_extension": ".py",
   "mimetype": "text/x-python",
   "name": "python",
   "nbconvert_exporter": "python",
   "pygments_lexer": "ipython3",
   "version": "3.10.1"
  }
 },
 "nbformat": 4,
 "nbformat_minor": 5
}
