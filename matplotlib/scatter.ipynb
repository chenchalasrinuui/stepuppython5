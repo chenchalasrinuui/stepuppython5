{
 "cells": [
  {
   "cell_type": "code",
   "execution_count": 1,
   "id": "715b3dd1",
   "metadata": {},
   "outputs": [],
   "source": [
    "import matplotlib.pyplot as plt"
   ]
  },
  {
   "cell_type": "code",
   "execution_count": 2,
   "id": "374599e1",
   "metadata": {},
   "outputs": [],
   "source": [
    "x=[22,32,5,9,11]\n",
    "y=[33,15,8,3,70]"
   ]
  },
  {
   "cell_type": "code",
   "execution_count": 4,
   "id": "309e0503",
   "metadata": {},
   "outputs": [
    {
     "data": {
      "image/png": "[encoded data removed]",
      "text/plain": [
       "<Figure size 432x288 with 1 Axes>"
      ]
     },
     "metadata": {
      "needs_background": "light"
     },
     "output_type": "display_data"
    }
   ],
   "source": [
    "plt.scatter(x,y)\n",
    "plt.xlabel(\"X-Values\")\n",
    "plt.ylabel(\"Y-Values\")\n",
    "plt.show()"
   ]
  },
  {
   "cell_type": "code",
   "execution_count": 5,
   "id": "ca0bd893",
   "metadata": {},
   "outputs": [
    {
     "data": {
      "image/png": "[encoded data removed]",
      "text/plain": [
       "<Figure size 432x288 with 1 Axes>"
      ]
     },
     "metadata": {
      "needs_background": "light"
     },
     "output_type": "display_data"
    }
   ],
   "source": [
    "\n",
    " \n",
    "# dataset-1\n",
    "x1 = [89, 43, 36, 36, 95, 10,\n",
    "      66, 34, 38, 20]\n",
    " \n",
    "y1 = [21, 46, 3, 35, 67, 95,\n",
    "      53, 72, 58, 10]\n",
    " \n",
    "# dataset2\n",
    "x2 = [26, 29, 48, 64, 6, 5,\n",
    "      36, 66, 72, 40]\n",
    " \n",
    "y2 = [26, 34, 90, 33, 38,\n",
    "      20, 56, 2, 47, 15]\n",
    " \n",
    "plt.scatter(x1, y1, c =\"pink\",\n",
    "            linewidths = 2,\n",
    "            marker =\"s\",\n",
    "            edgecolor =\"green\",\n",
    "            s = 50)\n",
    " \n",
    "plt.scatter(x2, y2, c =\"yellow\",\n",
    "            linewidths = 2,\n",
    "            marker =\"^\",\n",
    "            edgecolor =\"red\",\n",
    "            s = 200)\n",
    " \n",
    "plt.xlabel(\"X-axis\")\n",
    "plt.ylabel(\"Y-axis\")\n",
    "plt.show()"
   ]
  },
  {
   "cell_type": "code",
   "execution_count": null,
   "id": "44c42f77",
   "metadata": {},
   "outputs": [],
   "source": []
  }
 ],
 "metadata": {
  "kernelspec": {
   "display_name": "Python 3 (ipykernel)",
   "language": "python",
   "name": "python3"
  },
  "language_info": {
   "codemirror_mode": {
    "name": "ipython",
    "version": 3
   },
   "file_extension": ".py",
   "mimetype": "text/x-python",
   "name": "python",
   "nbconvert_exporter": "python",
   "pygments_lexer": "ipython3",
   "version": "3.10.1"
  }
 },
 "nbformat": 4,
 "nbformat_minor": 5
}
