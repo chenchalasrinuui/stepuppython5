{
 "cells": [
  {
   "cell_type": "code",
   "execution_count": 1,
   "id": "7cabd8f5",
   "metadata": {},
   "outputs": [],
   "source": [
    "import pandas as pd"
   ]
  },
  {
   "cell_type": "code",
   "execution_count": 2,
   "id": "08b7996f",
   "metadata": {},
   "outputs": [],
   "source": [
    "import pymongo"
   ]
  },
  {
   "cell_type": "code",
   "execution_count": 8,
   "id": "c9ab090b",
   "metadata": {},
   "outputs": [],
   "source": [
    "url=\"mongodb://localhost:27017\""
   ]
  },
  {
   "cell_type": "code",
   "execution_count": 9,
   "id": "156673b6",
   "metadata": {},
   "outputs": [],
   "source": [
    "client=pymongo.MongoClient(url)"
   ]
  },
  {
   "cell_type": "code",
   "execution_count": 10,
   "id": "e80485b3",
   "metadata": {},
   "outputs": [],
   "source": [
    "db=client[\"school\"]"
   ]
  },
  {
   "cell_type": "code",
   "execution_count": 11,
   "id": "8ac2c42d",
   "metadata": {},
   "outputs": [],
   "source": [
    "collection=db[\"students\"]"
   ]
  },
  {
   "cell_type": "code",
   "execution_count": 14,
   "id": "9dadf64a",
   "metadata": {},
   "outputs": [],
   "source": [
    "data=list(collection.find())"
   ]
  },
  {
   "cell_type": "code",
   "execution_count": 16,
   "id": "c67a5660",
   "metadata": {},
   "outputs": [],
   "source": [
    "df=pd.DataFrame(data)"
   ]
  },
  {
   "cell_type": "code",
   "execution_count": 17,
   "id": "e1c01d50",
   "metadata": {},
   "outputs": [
    {
     "data": {
      "text/html": [
       "<div>\n",
       "<style scoped>\n",
       "    .dataframe tbody tr th:only-of-type {\n",
       "        vertical-align: middle;\n",
       "    }\n",
       "\n",
       "    .dataframe tbody tr th {\n",
       "        vertical-align: top;\n",
       "    }\n",
       "\n",
       "    .dataframe thead th {\n",
       "        text-align: right;\n",
       "    }\n",
       "</style>\n",
       "<table border=\"1\" class=\"dataframe\">\n",
       "  <thead>\n",
       "    <tr style=\"text-align: right;\">\n",
       "      <th></th>\n",
       "      <th>_id</th>\n",
       "      <th>name</th>\n",
       "      <th>rno</th>\n",
       "      <th>address</th>\n",
       "    </tr>\n",
       "  </thead>\n",
       "  <tbody>\n",
       "    <tr>\n",
       "      <th>0</th>\n",
       "      <td>63dc682753d5c5dbb4c65489</td>\n",
       "      <td>s6</td>\n",
       "      <td>6</td>\n",
       "      <td>Hyd</td>\n",
       "    </tr>\n",
       "    <tr>\n",
       "      <th>1</th>\n",
       "      <td>63dc682753d5c5dbb4c6548a</td>\n",
       "      <td>s7</td>\n",
       "      <td>7</td>\n",
       "      <td>Hyd</td>\n",
       "    </tr>\n",
       "  </tbody>\n",
       "</table>\n",
       "</div>"
      ],
      "text/plain": [
       "                        _id name rno address\n",
       "0  63dc682753d5c5dbb4c65489   s6   6     Hyd\n",
       "1  63dc682753d5c5dbb4c6548a   s7   7     Hyd"
      ]
     },
     "execution_count": 17,
     "metadata": {},
     "output_type": "execute_result"
    }
   ],
   "source": [
    "df"
   ]
  },
  {
   "cell_type": "code",
   "execution_count": null,
   "id": "1eabf502",
   "metadata": {},
   "outputs": [],
   "source": []
  }
 ],
 "metadata": {
  "kernelspec": {
   "display_name": "Python 3 (ipykernel)",
   "language": "python",
   "name": "python3"
  },
  "language_info": {
   "codemirror_mode": {
    "name": "ipython",
    "version": 3
   },
   "file_extension": ".py",
   "mimetype": "text/x-python",
   "name": "python",
   "nbconvert_exporter": "python",
   "pygments_lexer": "ipython3",
   "version": "3.10.1"
  }
 },
 "nbformat": 4,
 "nbformat_minor": 5
}
