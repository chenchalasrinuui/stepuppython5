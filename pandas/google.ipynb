{
 "cells": [
  {
   "cell_type": "code",
   "execution_count": 1,
   "id": "84572d79",
   "metadata": {},
   "outputs": [
    {
     "name": "stdout",
     "output_type": "stream",
     "text": [
      "Requirement already satisfied: GoogleNews in c:\\users\\srinivas\\appdata\\local\\programs\\python\\python310\\lib\\site-packages (1.6.0)\n",
      "Requirement already satisfied: beautifulsoup4 in c:\\users\\srinivas\\appdata\\local\\programs\\python\\python310\\lib\\site-packages (from GoogleNews) (4.10.0)\n",
      "Requirement already satisfied: python-dateutil in c:\\users\\srinivas\\appdata\\local\\programs\\python\\python310\\lib\\site-packages (from GoogleNews) (2.8.2)\n",
      "Requirement already satisfied: dateparser in c:\\users\\srinivas\\appdata\\local\\programs\\python\\python310\\lib\\site-packages (from GoogleNews) (1.1.0)\n",
      "Note: you may need to restart the kernel to use updated packages.Requirement already satisfied: soupsieve>1.2 in c:\\users\\srinivas\\appdata\\local\\programs\\python\\python310\\lib\\site-packages (from beautifulsoup4->GoogleNews) (2.3.1)\n",
      "Requirement already satisfied: pytz in c:\\users\\srinivas\\appdata\\local\\programs\\python\\python310\\lib\\site-packages (from dateparser->GoogleNews) (2021.3)\n",
      "Requirement already satisfied: regex!=2019.02.19,!=2021.8.27 in c:\\users\\srinivas\\appdata\\local\\programs\\python\\python310\\lib\\site-packages (from dateparser->GoogleNews) (2022.3.15)\n",
      "\n"
     ]
    },
    {
     "name": "stderr",
     "output_type": "stream",
     "text": [
      "WARNING: You are using pip version 21.2.4; however, version 23.0.1 is available.\n",
      "You should consider upgrading via the 'C:\\Users\\srinivas\\AppData\\Local\\Programs\\Python\\Python310\\python.exe -m pip install --upgrade pip' command.\n"
     ]
    },
    {
     "name": "stdout",
     "output_type": "stream",
     "text": [
      "Requirement already satisfied: tzlocal in c:\\users\\srinivas\\appdata\\local\\programs\\python\\python310\\lib\\site-packages (from dateparser->GoogleNews) (4.1)\n",
      "Requirement already satisfied: six>=1.5 in c:\\users\\srinivas\\appdata\\local\\programs\\python\\python310\\lib\\site-packages (from python-dateutil->GoogleNews) (1.16.0)\n",
      "Requirement already satisfied: tzdata in c:\\users\\srinivas\\appdata\\local\\programs\\python\\python310\\lib\\site-packages (from tzlocal->dateparser->GoogleNews) (2021.5)\n",
      "Requirement already satisfied: pytz-deprecation-shim in c:\\users\\srinivas\\appdata\\local\\programs\\python\\python310\\lib\\site-packages (from tzlocal->dateparser->GoogleNews) (0.1.0.post0)\n"
     ]
    }
   ],
   "source": [
    "pip install GoogleNews"
   ]
  },
  {
   "cell_type": "code",
   "execution_count": 2,
   "id": "8c309039",
   "metadata": {},
   "outputs": [],
   "source": [
    "import pandas as pd"
   ]
  },
  {
   "cell_type": "code",
   "execution_count": 4,
   "id": "0fab4a57",
   "metadata": {},
   "outputs": [],
   "source": [
    "from GoogleNews import GoogleNews as GN"
   ]
  },
  {
   "cell_type": "code",
   "execution_count": 14,
   "id": "199a4317",
   "metadata": {},
   "outputs": [],
   "source": [
    "news=GN(start='01/01/2018', end='31/12/2021')"
   ]
  },
  {
   "cell_type": "code",
   "execution_count": 19,
   "id": "6a2e4c2e",
   "metadata": {},
   "outputs": [],
   "source": [
    "news.get_news('COVID')"
   ]
  },
  {
   "cell_type": "code",
   "execution_count": 20,
   "id": "f3af9be4",
   "metadata": {},
   "outputs": [],
   "source": [
    "result=news.result()"
   ]
  },
  {
   "cell_type": "code",
   "execution_count": 21,
   "id": "44271e0b",
   "metadata": {},
   "outputs": [],
   "source": [
    "df1=pd.DataFrame(result)"
   ]
  },
  {
   "cell_type": "code",
   "execution_count": 22,
   "id": "d1cc8cfd",
   "metadata": {},
   "outputs": [
    {
     "data": {
      "text/html": [
       "<div>\n",
       "<style scoped>\n",
       "    .dataframe tbody tr th:only-of-type {\n",
       "        vertical-align: middle;\n",
       "    }\n",
       "\n",
       "    .dataframe tbody tr th {\n",
       "        vertical-align: top;\n",
       "    }\n",
       "\n",
       "    .dataframe thead th {\n",
       "        text-align: right;\n",
       "    }\n",
       "</style>\n",
       "<table border=\"1\" class=\"dataframe\">\n",
       "  <thead>\n",
       "    <tr style=\"text-align: right;\">\n",
       "      <th></th>\n",
       "      <th>title</th>\n",
       "      <th>desc</th>\n",
       "      <th>date</th>\n",
       "      <th>datetime</th>\n",
       "      <th>link</th>\n",
       "      <th>img</th>\n",
       "      <th>media</th>\n",
       "      <th>site</th>\n",
       "    </tr>\n",
       "  </thead>\n",
       "  <tbody>\n",
       "    <tr>\n",
       "      <th>0</th>\n",
       "      <td>5 Things We've Learned from COVID in Three Years</td>\n",
       "      <td>bookmark_border</td>\n",
       "      <td>7 hours ago</td>\n",
       "      <td>2023-03-14 00:50:18.976929</td>\n",
       "      <td>news.google.com/./articles/CBMiY2h0dHBzOi8vd3d...</td>\n",
       "      <td>https://lh3.googleusercontent.com/proxy/HwogX0...</td>\n",
       "      <td>None</td>\n",
       "      <td>None</td>\n",
       "    </tr>\n",
       "    <tr>\n",
       "      <th>1</th>\n",
       "      <td>People Are Far Less Likely to Get Long COVID A...</td>\n",
       "      <td>bookmark_border</td>\n",
       "      <td>5 days ago</td>\n",
       "      <td>2023-03-09 07:50:18.977929</td>\n",
       "      <td>news.google.com/./articles/CBMiOGh0dHBzOi8vdGl...</td>\n",
       "      <td>https://lh3.googleusercontent.com/proxy/TzPI06...</td>\n",
       "      <td>None</td>\n",
       "      <td>None</td>\n",
       "    </tr>\n",
       "    <tr>\n",
       "      <th>2</th>\n",
       "      <td>The predictive model for COVID-19 pandemic pla...</td>\n",
       "      <td>bookmark_border</td>\n",
       "      <td>15 hours ago</td>\n",
       "      <td>2023-03-13 16:50:18.977929</td>\n",
       "      <td>news.google.com/./articles/CBMiMmh0dHBzOi8vd3d...</td>\n",
       "      <td>https://lh3.googleusercontent.com/proxy/2foRd1...</td>\n",
       "      <td>None</td>\n",
       "      <td>None</td>\n",
       "    </tr>\n",
       "    <tr>\n",
       "      <th>3</th>\n",
       "      <td>Coronavirus:To mask or not? New study says wea...</td>\n",
       "      <td>bookmark_border</td>\n",
       "      <td>16 Feb</td>\n",
       "      <td>NaT</td>\n",
       "      <td>news.google.com/./articles/CBMi1wFodHRwczovL3R...</td>\n",
       "      <td>https://lh3.googleusercontent.com/proxy/VgqEWi...</td>\n",
       "      <td>None</td>\n",
       "      <td>None</td>\n",
       "    </tr>\n",
       "    <tr>\n",
       "      <th>4</th>\n",
       "      <td>Children experienced more stress from family f...</td>\n",
       "      <td>bookmark_border</td>\n",
       "      <td>11 hours ago</td>\n",
       "      <td>2023-03-13 20:50:18.979354</td>\n",
       "      <td>news.google.com/./articles/CBMinAFodHRwczovL3B...</td>\n",
       "      <td>https://lh3.googleusercontent.com/proxy/HvIhjb...</td>\n",
       "      <td>None</td>\n",
       "      <td>None</td>\n",
       "    </tr>\n",
       "    <tr>\n",
       "      <th>...</th>\n",
       "      <td>...</td>\n",
       "      <td>...</td>\n",
       "      <td>...</td>\n",
       "      <td>...</td>\n",
       "      <td>...</td>\n",
       "      <td>...</td>\n",
       "      <td>...</td>\n",
       "      <td>...</td>\n",
       "    </tr>\n",
       "    <tr>\n",
       "      <th>77</th>\n",
       "      <td>Why and When to Get a Bivalent Covid-19 Booste...</td>\n",
       "      <td>bookmark_border</td>\n",
       "      <td>3 Oct</td>\n",
       "      <td>NaT</td>\n",
       "      <td>news.google.com/./articles/CBMiPmh0dHBzOi8vcHV...</td>\n",
       "      <td>https://lh3.googleusercontent.com/proxy/w-v0yk...</td>\n",
       "      <td>None</td>\n",
       "      <td>None</td>\n",
       "    </tr>\n",
       "    <tr>\n",
       "      <th>78</th>\n",
       "      <td>Long Covid: When you can't smell</td>\n",
       "      <td>bookmark_border</td>\n",
       "      <td>22 Oct</td>\n",
       "      <td>NaT</td>\n",
       "      <td>news.google.com/./articles/CBMiVWh0dHBzOi8vd3d...</td>\n",
       "      <td>https://lh3.googleusercontent.com/proxy/hcbhhX...</td>\n",
       "      <td>None</td>\n",
       "      <td>None</td>\n",
       "    </tr>\n",
       "    <tr>\n",
       "      <th>79</th>\n",
       "      <td>The COVID-19 pandemic in 2023: far from over</td>\n",
       "      <td>bookmark_border</td>\n",
       "      <td>14 Jan</td>\n",
       "      <td>NaT</td>\n",
       "      <td>news.google.com/./articles/CBMiU2h0dHBzOi8vd3d...</td>\n",
       "      <td>https://lh3.googleusercontent.com/proxy/ZjQIn-...</td>\n",
       "      <td>None</td>\n",
       "      <td>None</td>\n",
       "    </tr>\n",
       "    <tr>\n",
       "      <th>80</th>\n",
       "      <td>Could tiny blood clots cause long COVID's puzz...</td>\n",
       "      <td>bookmark_border</td>\n",
       "      <td>24-Aug-2022</td>\n",
       "      <td>NaT</td>\n",
       "      <td>news.google.com/./articles/CBMiMmh0dHBzOi8vd3d...</td>\n",
       "      <td>https://lh3.googleusercontent.com/proxy/kn0TT_...</td>\n",
       "      <td>None</td>\n",
       "      <td>None</td>\n",
       "    </tr>\n",
       "    <tr>\n",
       "      <th>81</th>\n",
       "      <td>How to live with Covid-19 when you are tired o...</td>\n",
       "      <td>bookmark_border</td>\n",
       "      <td>26-Jul-2022</td>\n",
       "      <td>NaT</td>\n",
       "      <td>news.google.com/./articles/CBMigAFodHRwczovL2l...</td>\n",
       "      <td>https://lh3.googleusercontent.com/proxy/7vGDFf...</td>\n",
       "      <td>None</td>\n",
       "      <td>None</td>\n",
       "    </tr>\n",
       "  </tbody>\n",
       "</table>\n",
       "<p>82 rows × 8 columns</p>\n",
       "</div>"
      ],
      "text/plain": [
       "                                                title             desc  \\\n",
       "0    5 Things We've Learned from COVID in Three Years  bookmark_border   \n",
       "1   People Are Far Less Likely to Get Long COVID A...  bookmark_border   \n",
       "2   The predictive model for COVID-19 pandemic pla...  bookmark_border   \n",
       "3   Coronavirus:To mask or not? New study says wea...  bookmark_border   \n",
       "4   Children experienced more stress from family f...  bookmark_border   \n",
       "..                                                ...              ...   \n",
       "77  Why and When to Get a Bivalent Covid-19 Booste...  bookmark_border   \n",
       "78                   Long Covid: When you can't smell  bookmark_border   \n",
       "79       The COVID-19 pandemic in 2023: far from over  bookmark_border   \n",
       "80  Could tiny blood clots cause long COVID's puzz...  bookmark_border   \n",
       "81  How to live with Covid-19 when you are tired o...  bookmark_border   \n",
       "\n",
       "            date                   datetime  \\\n",
       "0    7 hours ago 2023-03-14 00:50:18.976929   \n",
       "1     5 days ago 2023-03-09 07:50:18.977929   \n",
       "2   15 hours ago 2023-03-13 16:50:18.977929   \n",
       "3         16 Feb                        NaT   \n",
       "4   11 hours ago 2023-03-13 20:50:18.979354   \n",
       "..           ...                        ...   \n",
       "77         3 Oct                        NaT   \n",
       "78        22 Oct                        NaT   \n",
       "79        14 Jan                        NaT   \n",
       "80   24-Aug-2022                        NaT   \n",
       "81   26-Jul-2022                        NaT   \n",
       "\n",
       "                                                 link  \\\n",
       "0   news.google.com/./articles/CBMiY2h0dHBzOi8vd3d...   \n",
       "1   news.google.com/./articles/CBMiOGh0dHBzOi8vdGl...   \n",
       "2   news.google.com/./articles/CBMiMmh0dHBzOi8vd3d...   \n",
       "3   news.google.com/./articles/CBMi1wFodHRwczovL3R...   \n",
       "4   news.google.com/./articles/CBMinAFodHRwczovL3B...   \n",
       "..                                                ...   \n",
       "77  news.google.com/./articles/CBMiPmh0dHBzOi8vcHV...   \n",
       "78  news.google.com/./articles/CBMiVWh0dHBzOi8vd3d...   \n",
       "79  news.google.com/./articles/CBMiU2h0dHBzOi8vd3d...   \n",
       "80  news.google.com/./articles/CBMiMmh0dHBzOi8vd3d...   \n",
       "81  news.google.com/./articles/CBMigAFodHRwczovL2l...   \n",
       "\n",
       "                                                  img media  site  \n",
       "0   https://lh3.googleusercontent.com/proxy/HwogX0...  None  None  \n",
       "1   https://lh3.googleusercontent.com/proxy/TzPI06...  None  None  \n",
       "2   https://lh3.googleusercontent.com/proxy/2foRd1...  None  None  \n",
       "3   https://lh3.googleusercontent.com/proxy/VgqEWi...  None  None  \n",
       "4   https://lh3.googleusercontent.com/proxy/HvIhjb...  None  None  \n",
       "..                                                ...   ...   ...  \n",
       "77  https://lh3.googleusercontent.com/proxy/w-v0yk...  None  None  \n",
       "78  https://lh3.googleusercontent.com/proxy/hcbhhX...  None  None  \n",
       "79  https://lh3.googleusercontent.com/proxy/ZjQIn-...  None  None  \n",
       "80  https://lh3.googleusercontent.com/proxy/kn0TT_...  None  None  \n",
       "81  https://lh3.googleusercontent.com/proxy/7vGDFf...  None  None  \n",
       "\n",
       "[82 rows x 8 columns]"
      ]
     },
     "execution_count": 22,
     "metadata": {},
     "output_type": "execute_result"
    }
   ],
   "source": [
    "df1"
   ]
  },
  {
   "cell_type": "code",
   "execution_count": 10,
   "id": "4c6a5a3d",
   "metadata": {},
   "outputs": [
    {
     "data": {
      "text/plain": [
       "[]"
      ]
     },
     "execution_count": 10,
     "metadata": {},
     "output_type": "execute_result"
    }
   ],
   "source": [
    "result"
   ]
  },
  {
   "cell_type": "code",
   "execution_count": null,
   "id": "eca1bdd8",
   "metadata": {},
   "outputs": [],
   "source": []
  }
 ],
 "metadata": {
  "kernelspec": {
   "display_name": "Python 3 (ipykernel)",
   "language": "python",
   "name": "python3"
  },
  "language_info": {
   "codemirror_mode": {
    "name": "ipython",
    "version": 3
   },
   "file_extension": ".py",
   "mimetype": "text/x-python",
   "name": "python",
   "nbconvert_exporter": "python",
   "pygments_lexer": "ipython3",
   "version": "3.10.1"
  }
 },
 "nbformat": 4,
 "nbformat_minor": 5
}
